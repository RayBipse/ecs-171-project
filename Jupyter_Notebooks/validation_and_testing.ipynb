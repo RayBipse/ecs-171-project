{
 "cells": [
  {
   "cell_type": "markdown",
   "metadata": {},
   "source": [
    "**Validation and Testing**"
   ]
  },
  {
   "cell_type": "markdown",
   "metadata": {},
   "source": [
    "code from the original `notebook.ipynb`:"
   ]
  },
  {
   "cell_type": "code",
   "execution_count": 1,
   "metadata": {},
   "outputs": [],
   "source": [
    "# from sklearn.model_selection import train_test_split\n",
    "# X_train, X_test, y_train, y_test = train_test_split(X, y, test_size=0.1)\n",
    "\n",
    "# from sklearn.model_selection import KFold\n",
    "# from sklearn.metrics import mean_squared_error, accuracy_score\n",
    "\n",
    "# # Split data into 10 folds\n",
    "# kf = KFold(n_splits=10)\n",
    "# accuracy, mse = np.zeros(kf.get_n_splits(X_train)), np.zeros(kf.get_n_splits(X_train))\n",
    "# for i, (train_index, test_index) in enumerate(kf.split(X_train)):\n",
    "#     train_index = slice(train_index[0], train_index[-1] + 1)\n",
    "#     test_index = slice(test_index[0], test_index[-1] + 1)\n",
    "\n",
    "#     model.fit(X_train[train_index], y_train[train_index])\n",
    "#     pred = model.predict(X_train[test_index])\n",
    "#     accuracy[i] = accuracy_score(y_train[test_index], pred)\n",
    "#     mse[i] = mean_squared_error(y_train[test_index], pred)\n",
    "\n",
    "# # Display the performance of each fold and the overall average\n",
    "# performance_df = pd.DataFrame(np.transpose([np.arange(1, len(mse)+1), accuracy, mse]), columns=[\"Iteration\", \"Accuracy\", \"MSE\"]).set_index(\"Iteration\")\n",
    "# display(performance_df)\n",
    "# print(f\"Average accuracy = {np.average(accuracy)}\")\n",
    "# print(f\"Average MSE = {np.average(mse)}\")\n",
    "\n",
    "#pred = model.predict(y_test)"
   ]
  }
 ],
 "metadata": {
  "kernelspec": {
   "display_name": "Python 3.11.6 ('base')",
   "language": "python",
   "name": "python3"
  },
  "language_info": {
   "codemirror_mode": {
    "name": "ipython",
    "version": 3
   },
   "file_extension": ".py",
   "mimetype": "text/x-python",
   "name": "python",
   "nbconvert_exporter": "python",
   "pygments_lexer": "ipython3",
   "version": "3.11.6"
  },
  "orig_nbformat": 4,
  "vscode": {
   "interpreter": {
    "hash": "29bf3bf4e5ca07c2dfeea41ff635140b754e818cda6d855159392e8b7ceb4723"
   }
  }
 },
 "nbformat": 4,
 "nbformat_minor": 2
}
