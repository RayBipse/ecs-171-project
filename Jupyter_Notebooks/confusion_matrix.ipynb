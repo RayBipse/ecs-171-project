{
 "cells": [
  {
   "cell_type": "markdown",
   "metadata": {},
   "source": [
    "**Confusion Matrix**"
   ]
  },
  {
   "cell_type": "markdown",
   "metadata": {},
   "source": [
    "code from the original `notebook.ipynb`:"
   ]
  },
  {
   "cell_type": "code",
   "execution_count": null,
   "metadata": {},
   "outputs": [],
   "source": [
    "# from sklearn.metrics import classification_report, multilabel_confusion_matrix\n",
    "\n",
    "\n",
    "# print(\"Confusion matrix values for each label:\")\n",
    "# mcm = multilabel_confusion_matrix(y_test, pred)\n",
    "# confusion_df = pd.DataFrame(data=[[f\"quality_{i+1}\", mcm[i, 1, 1], mcm[i, 0, 1], mcm[i, 1, 0], mcm[i, 0, 0]]\n",
    "#     for i, matrix in enumerate(mcm)],\n",
    "#     columns=[\"Label\", \"TP\", \"FP\", \"FN\", \"TN\"]).set_index(\"Label\")\n",
    "# display(confusion_df)"
   ]
  }
 ],
 "metadata": {
  "kernelspec": {
   "display_name": "Python 3.11.6 ('base')",
   "language": "python",
   "name": "python3"
  },
  "language_info": {
   "name": "python",
   "version": "3.11.6"
  },
  "orig_nbformat": 4,
  "vscode": {
   "interpreter": {
    "hash": "29bf3bf4e5ca07c2dfeea41ff635140b754e818cda6d855159392e8b7ceb4723"
   }
  }
 },
 "nbformat": 4,
 "nbformat_minor": 2
}
