{
 "cells": [
  {
   "cell_type": "markdown",
   "metadata": {},
   "source": [
    "**Classification Report**"
   ]
  },
  {
   "cell_type": "markdown",
   "metadata": {},
   "source": [
    "code from the original `notebook.ipynb`:"
   ]
  },
  {
   "cell_type": "code",
   "execution_count": null,
   "metadata": {},
   "outputs": [],
   "source": [
    "from sklearn.metrics import mean_squared_error, accuracy_score\n",
    "\n",
    "def print_classification_report(pred, y_test):\n",
    "    print(\"Classification report:\")\n",
    "    print(classification_report(y_test, pred, zero_division=0.0))\n",
    "    \n",
    "    print(\"\\nModel data:\")\n",
    "    print(f\"Accuracy: {accuracy_score(y_test, pred)}\")\n",
    "    print(f\"MSE: {mean_squared_error(y_test, pred)}\\n\")"
   ]
  }
 ],
 "metadata": {
  "kernelspec": {
   "display_name": "Python 3 (ipykernel)",
   "language": "python",
   "name": "python3"
  },
  "language_info": {
   "codemirror_mode": {
    "name": "ipython",
    "version": 3
   },
   "file_extension": ".py",
   "mimetype": "text/x-python",
   "name": "python",
   "nbconvert_exporter": "python",
   "pygments_lexer": "ipython3",
   "version": "3.9.9"
  },
  "vscode": {
   "interpreter": {
    "hash": "29bf3bf4e5ca07c2dfeea41ff635140b754e818cda6d855159392e8b7ceb4723"
   }
  }
 },
 "nbformat": 4,
 "nbformat_minor": 4
}
