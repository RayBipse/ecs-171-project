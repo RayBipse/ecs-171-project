{
 "cells": [
  {
   "cell_type": "markdown",
   "metadata": {},
   "source": [
    "**Preprocessing**"
   ]
  },
  {
   "cell_type": "code",
   "execution_count": 65,
   "metadata": {
    "ExecuteTime": {
     "end_time": "2024-03-02T22:42:31.373621Z",
     "start_time": "2024-03-02T22:42:31.359097Z"
    }
   },
   "outputs": [],
   "source": [
    "import nbimporter\n",
    "import pandas as pd\n",
    "import numpy as np\n",
    "from ucimlrepo import fetch_ucirepo, list_available_datasets\n",
    "from keras.models import Sequential\n",
    "from tensorflow.keras.optimizers.legacy import Adam\n",
    "from keras.layers import Dense\n",
    "from sklearn.model_selection import train_test_split\n",
    "import matplotlib.pyplot as plt\n",
    "from sklearn.decomposition import PCA\n",
    "import seaborn as sns\n",
    "import random\n",
    "import scipy.stats as stats\n",
    "from sklearn.preprocessing import OneHotEncoder, StandardScaler, RobustScaler\n",
    "from sklearn.ensemble import RandomForestClassifier\n",
    "from sklearn.model_selection import train_test_split\n",
    "from sklearn.linear_model import LogisticRegression\n",
    "from sklearn.model_selection import train_test_split\n",
    "from sklearn.metrics import accuracy_score, classification_report, confusion_matrix\n"
   ]
  },
  {
   "cell_type": "markdown",
   "source": [
    "**Get Data**"
   ],
   "metadata": {
    "collapsed": false
   }
  },
  {
   "cell_type": "code",
   "execution_count": 2,
   "outputs": [],
   "source": [
    "df = pd.read_csv(\"../mushroom/agaricus-lepiota.data\")\n",
    "mushroom = fetch_ucirepo(id=73)"
   ],
   "metadata": {
    "collapsed": false,
    "ExecuteTime": {
     "end_time": "2024-03-02T20:07:36.195507Z",
     "start_time": "2024-03-02T20:07:35.812505Z"
    }
   }
  },
  {
   "cell_type": "markdown",
   "source": [
    "**Map abbreviations to actual values**"
   ],
   "metadata": {
    "collapsed": false
   }
  },
  {
   "cell_type": "code",
   "execution_count": 3,
   "outputs": [
    {
     "name": "stdout",
     "output_type": "stream",
     "text": [
      "  class cap-shape cap-surface cap-color  bruises     odor gill-attachment  \\\n",
      "0     e    convex      smooth    yellow  bruises   almond            free   \n",
      "1     e      bell      smooth     white  bruises    anise            free   \n",
      "2     p    convex       scaly     white  bruises  pungent            free   \n",
      "3     e    convex      smooth      gray       no     none            free   \n",
      "4     e    convex       scaly    yellow  bruises   almond            free   \n",
      "\n",
      "  gill-spacing gill-size gill-color  ... stalk-surface-below-ring  \\\n",
      "0        close     broad      black  ...                   smooth   \n",
      "1        close     broad      brown  ...                   smooth   \n",
      "2        close    narrow      brown  ...                   smooth   \n",
      "3      crowded     broad      black  ...                   smooth   \n",
      "4        close     broad      brown  ...                   smooth   \n",
      "\n",
      "  stalk-color-above-ring stalk-color-below-ring veil-type veil-color  \\\n",
      "0                  white                  white   partial      white   \n",
      "1                  white                  white   partial      white   \n",
      "2                  white                  white   partial      white   \n",
      "3                  white                  white   partial      white   \n",
      "4                  white                  white   partial      white   \n",
      "\n",
      "  ring-number   ring-type spore-print-color population  habitat  \n",
      "0         one     pendant             brown   numerous  grasses  \n",
      "1         one     pendant             brown   numerous  meadows  \n",
      "2         one     pendant             black  scattered    urban  \n",
      "3         one  evanescent             brown   abundant  grasses  \n",
      "4         one     pendant             black   numerous  grasses  \n",
      "\n",
      "[5 rows x 23 columns]\n"
     ]
    }
   ],
   "source": [
    "mappings = {\n",
    "    'cap-shape': {'b': 'bell', 'c': 'conical', 'x': 'convex', 'f': 'flat', 'k': 'knobbed', 's': 'sunken'},\n",
    "    'cap-surface': {'f': 'fibrous', 'g': 'grooves', 'y': 'scaly', 's': 'smooth'},\n",
    "    'cap-color': {'n': 'brown', 'b': 'buff', 'c': 'cinnamon', 'g': 'gray', 'r': 'green', 'p': 'pink', 'u': 'purple', 'e': 'red', 'w': 'white', 'y': 'yellow'},\n",
    "    'bruises': {'t': 'bruises', 'f': 'no'},\n",
    "    'odor': {'a': 'almond', 'l': 'anise', 'c': 'creosote', 'y': 'fishy', 'f': 'foul', 'm': 'musty', 'n': 'none', 'p': 'pungent', 's': 'spicy'},\n",
    "    'gill-attachment': {'a': 'attached', 'd': 'descending', 'f': 'free', 'n': 'notched'},\n",
    "    'gill-spacing': {'c': 'close', 'w': 'crowded', 'd': 'distant'},\n",
    "    'gill-size': {'b': 'broad', 'n': 'narrow'},\n",
    "    'gill-color': {'k': 'black', 'n': 'brown', 'b': 'buff', 'h': 'chocolate', 'g': 'gray', 'r': 'green', 'o': 'orange', 'p': 'pink', 'u': 'purple', 'e': 'red', 'w': 'white', 'y': 'yellow'},\n",
    "    'stalk-shape': {'e': 'enlarging', 't': 'tapering'},\n",
    "    'stalk-root': {'b': 'bulbous', 'c': 'club', 'u': 'cup', 'e': 'equal', 'z': 'rhizomorphs', 'r': 'rooted', '?': 'missing'},\n",
    "    'stalk-surface-above-ring': {'f': 'fibrous', 'y': 'scaly', 'k': 'silky', 's': 'smooth'},\n",
    "    'stalk-surface-below-ring': {'f': 'fibrous', 'y': 'scaly', 'k': 'silky', 's': 'smooth'},\n",
    "    'stalk-color-above-ring': {'n': 'brown', 'b': 'buff', 'c': 'cinnamon', 'g': 'gray', 'o': 'orange', 'p': 'pink', 'e': 'red', 'w': 'white', 'y': 'yellow'},\n",
    "    'stalk-color-below-ring': {'n': 'brown', 'b': 'buff', 'c': 'cinnamon', 'g': 'gray', 'o': 'orange', 'p': 'pink', 'e': 'red', 'w': 'white', 'y': 'yellow'},\n",
    "    'veil-type': {'p': 'partial', 'u': 'universal'},\n",
    "    'veil-color': {'n': 'brown', 'o': 'orange', 'w': 'white', 'y': 'yellow'},\n",
    "    'ring-number': {'n': 'none', 'o': 'one', 't': 'two'},\n",
    "    'ring-type': {'c': 'cobwebby', 'e': 'evanescent', 'f': 'flaring', 'l': 'large', 'n': 'none', 'p': 'pendant', 's': 'sheathing', 'z': 'zone'},\n",
    "    'spore-print-color': {'k': 'black', 'n': 'brown', 'b': 'buff', 'h': 'chocolate', 'r': 'green', 'o': 'orange', 'u': 'purple', 'w': 'white', 'y': 'yellow'},\n",
    "    'population': {'a': 'abundant', 'c': 'clustered', 'n': 'numerous', 's': 'scattered', 'v': 'several', 'y': 'solitary'},\n",
    "    'habitat': {'g': 'grasses', 'l': 'leaves', 'm': 'meadows', 'p': 'paths', 'u': 'urban', 'w': 'waste', 'd': 'woods'}\n",
    "}\n",
    "\n",
    "df.columns = ['class', 'cap-shape', 'cap-surface', 'cap-color', 'bruises', 'odor', 'gill-attachment', 'gill-spacing', 'gill-size', 'gill-color', 'stalk-shape', 'stalk-root', 'stalk-surface-above-ring',  'stalk-surface-below-ring', 'stalk-color-above-ring', 'stalk-color-below-ring', 'veil-type', 'veil-color', 'ring-number',  'ring-type',  'spore-print-color', 'population',  'habitat']\n",
    "\n",
    "#apply mappings to the dataframe\n",
    "def map_features(df, mappings):\n",
    "    for column in df.columns:\n",
    "        if column in mappings:\n",
    "            df[column] = df[column].map(mappings[column]).fillna(df[column])\n",
    "    return df\n",
    "\n",
    "# Apply the mappings to the dataframe\n",
    "df_mapped = map_features(df, mappings)\n",
    "\n",
    "# Now df_mapped should have the full names \n",
    "print(df_mapped.head())"
   ],
   "metadata": {
    "collapsed": false,
    "ExecuteTime": {
     "end_time": "2024-03-02T20:07:36.249114Z",
     "start_time": "2024-03-02T20:07:36.202311Z"
    }
   }
  },
  {
   "cell_type": "code",
   "execution_count": 21,
   "outputs": [
    {
     "name": "stdout",
     "output_type": "stream",
     "text": [
      "<class 'pandas.core.frame.DataFrame'>\n",
      "RangeIndex: 8123 entries, 0 to 8122\n",
      "Data columns (total 23 columns):\n",
      " #   Column                    Non-Null Count  Dtype \n",
      "---  ------                    --------------  ----- \n",
      " 0   class                     8123 non-null   object\n",
      " 1   cap-shape                 8123 non-null   object\n",
      " 2   cap-surface               8123 non-null   object\n",
      " 3   cap-color                 8123 non-null   object\n",
      " 4   bruises                   8123 non-null   object\n",
      " 5   odor                      8123 non-null   object\n",
      " 6   gill-attachment           8123 non-null   object\n",
      " 7   gill-spacing              8123 non-null   object\n",
      " 8   gill-size                 8123 non-null   object\n",
      " 9   gill-color                8123 non-null   object\n",
      " 10  stalk-shape               8123 non-null   object\n",
      " 11  stalk-root                8123 non-null   object\n",
      " 12  stalk-surface-above-ring  8123 non-null   object\n",
      " 13  stalk-surface-below-ring  8123 non-null   object\n",
      " 14  stalk-color-above-ring    8123 non-null   object\n",
      " 15  stalk-color-below-ring    8123 non-null   object\n",
      " 16  veil-type                 8123 non-null   object\n",
      " 17  veil-color                8123 non-null   object\n",
      " 18  ring-number               8123 non-null   object\n",
      " 19  ring-type                 8123 non-null   object\n",
      " 20  spore-print-color         8123 non-null   object\n",
      " 21  population                8123 non-null   object\n",
      " 22  habitat                   8123 non-null   object\n",
      "dtypes: object(23)\n",
      "memory usage: 1.4+ MB\n"
     ]
    }
   ],
   "source": [
    "df_mapped.info()"
   ],
   "metadata": {
    "collapsed": false,
    "ExecuteTime": {
     "end_time": "2024-03-02T20:38:13.128991Z",
     "start_time": "2024-03-02T20:38:13.095705Z"
    }
   }
  },
  {
   "cell_type": "markdown",
   "source": [
    "**Check for and remove missing values**"
   ],
   "metadata": {
    "collapsed": false
   }
  },
  {
   "cell_type": "code",
   "execution_count": 4,
   "outputs": [],
   "source": [
    "for column in df_mapped.columns:\n",
    "    if df_mapped[column].isnull().any():\n",
    "        print(f\"Column {column} has missing values\")\n",
    "        df_mapped = df_mapped[df_mapped[column].notnull()]"
   ],
   "metadata": {
    "collapsed": false,
    "ExecuteTime": {
     "end_time": "2024-03-02T20:07:36.263344Z",
     "start_time": "2024-03-02T20:07:36.225644Z"
    }
   }
  },
  {
   "cell_type": "code",
   "execution_count": 5,
   "outputs": [
    {
     "name": "stdout",
     "output_type": "stream",
     "text": [
      "<class 'pandas.core.frame.DataFrame'>\n",
      "RangeIndex: 8123 entries, 0 to 8122\n",
      "Data columns (total 23 columns):\n",
      " #   Column                    Non-Null Count  Dtype \n",
      "---  ------                    --------------  ----- \n",
      " 0   class                     8123 non-null   object\n",
      " 1   cap-shape                 8123 non-null   object\n",
      " 2   cap-surface               8123 non-null   object\n",
      " 3   cap-color                 8123 non-null   object\n",
      " 4   bruises                   8123 non-null   object\n",
      " 5   odor                      8123 non-null   object\n",
      " 6   gill-attachment           8123 non-null   object\n",
      " 7   gill-spacing              8123 non-null   object\n",
      " 8   gill-size                 8123 non-null   object\n",
      " 9   gill-color                8123 non-null   object\n",
      " 10  stalk-shape               8123 non-null   object\n",
      " 11  stalk-root                8123 non-null   object\n",
      " 12  stalk-surface-above-ring  8123 non-null   object\n",
      " 13  stalk-surface-below-ring  8123 non-null   object\n",
      " 14  stalk-color-above-ring    8123 non-null   object\n",
      " 15  stalk-color-below-ring    8123 non-null   object\n",
      " 16  veil-type                 8123 non-null   object\n",
      " 17  veil-color                8123 non-null   object\n",
      " 18  ring-number               8123 non-null   object\n",
      " 19  ring-type                 8123 non-null   object\n",
      " 20  spore-print-color         8123 non-null   object\n",
      " 21  population                8123 non-null   object\n",
      " 22  habitat                   8123 non-null   object\n",
      "dtypes: object(23)\n",
      "memory usage: 1.4+ MB\n"
     ]
    }
   ],
   "source": [
    "df_mapped.info()"
   ],
   "metadata": {
    "collapsed": false,
    "ExecuteTime": {
     "end_time": "2024-03-02T20:07:36.264526Z",
     "start_time": "2024-03-02T20:07:36.228101Z"
    }
   }
  },
  {
   "cell_type": "code",
   "execution_count": 6,
   "outputs": [
    {
     "data": {
      "text/plain": "  class cap-shape cap-surface cap-color  bruises     odor gill-attachment  \\\n0     e    convex      smooth    yellow  bruises   almond            free   \n1     e      bell      smooth     white  bruises    anise            free   \n2     p    convex       scaly     white  bruises  pungent            free   \n3     e    convex      smooth      gray       no     none            free   \n4     e    convex       scaly    yellow  bruises   almond            free   \n\n  gill-spacing gill-size gill-color  ... stalk-surface-below-ring  \\\n0        close     broad      black  ...                   smooth   \n1        close     broad      brown  ...                   smooth   \n2        close    narrow      brown  ...                   smooth   \n3      crowded     broad      black  ...                   smooth   \n4        close     broad      brown  ...                   smooth   \n\n  stalk-color-above-ring stalk-color-below-ring veil-type veil-color  \\\n0                  white                  white   partial      white   \n1                  white                  white   partial      white   \n2                  white                  white   partial      white   \n3                  white                  white   partial      white   \n4                  white                  white   partial      white   \n\n  ring-number   ring-type spore-print-color population  habitat  \n0         one     pendant             brown   numerous  grasses  \n1         one     pendant             brown   numerous  meadows  \n2         one     pendant             black  scattered    urban  \n3         one  evanescent             brown   abundant  grasses  \n4         one     pendant             black   numerous  grasses  \n\n[5 rows x 23 columns]",
      "text/html": "<div>\n<style scoped>\n    .dataframe tbody tr th:only-of-type {\n        vertical-align: middle;\n    }\n\n    .dataframe tbody tr th {\n        vertical-align: top;\n    }\n\n    .dataframe thead th {\n        text-align: right;\n    }\n</style>\n<table border=\"1\" class=\"dataframe\">\n  <thead>\n    <tr style=\"text-align: right;\">\n      <th></th>\n      <th>class</th>\n      <th>cap-shape</th>\n      <th>cap-surface</th>\n      <th>cap-color</th>\n      <th>bruises</th>\n      <th>odor</th>\n      <th>gill-attachment</th>\n      <th>gill-spacing</th>\n      <th>gill-size</th>\n      <th>gill-color</th>\n      <th>...</th>\n      <th>stalk-surface-below-ring</th>\n      <th>stalk-color-above-ring</th>\n      <th>stalk-color-below-ring</th>\n      <th>veil-type</th>\n      <th>veil-color</th>\n      <th>ring-number</th>\n      <th>ring-type</th>\n      <th>spore-print-color</th>\n      <th>population</th>\n      <th>habitat</th>\n    </tr>\n  </thead>\n  <tbody>\n    <tr>\n      <th>0</th>\n      <td>e</td>\n      <td>convex</td>\n      <td>smooth</td>\n      <td>yellow</td>\n      <td>bruises</td>\n      <td>almond</td>\n      <td>free</td>\n      <td>close</td>\n      <td>broad</td>\n      <td>black</td>\n      <td>...</td>\n      <td>smooth</td>\n      <td>white</td>\n      <td>white</td>\n      <td>partial</td>\n      <td>white</td>\n      <td>one</td>\n      <td>pendant</td>\n      <td>brown</td>\n      <td>numerous</td>\n      <td>grasses</td>\n    </tr>\n    <tr>\n      <th>1</th>\n      <td>e</td>\n      <td>bell</td>\n      <td>smooth</td>\n      <td>white</td>\n      <td>bruises</td>\n      <td>anise</td>\n      <td>free</td>\n      <td>close</td>\n      <td>broad</td>\n      <td>brown</td>\n      <td>...</td>\n      <td>smooth</td>\n      <td>white</td>\n      <td>white</td>\n      <td>partial</td>\n      <td>white</td>\n      <td>one</td>\n      <td>pendant</td>\n      <td>brown</td>\n      <td>numerous</td>\n      <td>meadows</td>\n    </tr>\n    <tr>\n      <th>2</th>\n      <td>p</td>\n      <td>convex</td>\n      <td>scaly</td>\n      <td>white</td>\n      <td>bruises</td>\n      <td>pungent</td>\n      <td>free</td>\n      <td>close</td>\n      <td>narrow</td>\n      <td>brown</td>\n      <td>...</td>\n      <td>smooth</td>\n      <td>white</td>\n      <td>white</td>\n      <td>partial</td>\n      <td>white</td>\n      <td>one</td>\n      <td>pendant</td>\n      <td>black</td>\n      <td>scattered</td>\n      <td>urban</td>\n    </tr>\n    <tr>\n      <th>3</th>\n      <td>e</td>\n      <td>convex</td>\n      <td>smooth</td>\n      <td>gray</td>\n      <td>no</td>\n      <td>none</td>\n      <td>free</td>\n      <td>crowded</td>\n      <td>broad</td>\n      <td>black</td>\n      <td>...</td>\n      <td>smooth</td>\n      <td>white</td>\n      <td>white</td>\n      <td>partial</td>\n      <td>white</td>\n      <td>one</td>\n      <td>evanescent</td>\n      <td>brown</td>\n      <td>abundant</td>\n      <td>grasses</td>\n    </tr>\n    <tr>\n      <th>4</th>\n      <td>e</td>\n      <td>convex</td>\n      <td>scaly</td>\n      <td>yellow</td>\n      <td>bruises</td>\n      <td>almond</td>\n      <td>free</td>\n      <td>close</td>\n      <td>broad</td>\n      <td>brown</td>\n      <td>...</td>\n      <td>smooth</td>\n      <td>white</td>\n      <td>white</td>\n      <td>partial</td>\n      <td>white</td>\n      <td>one</td>\n      <td>pendant</td>\n      <td>black</td>\n      <td>numerous</td>\n      <td>grasses</td>\n    </tr>\n  </tbody>\n</table>\n<p>5 rows × 23 columns</p>\n</div>"
     },
     "execution_count": 6,
     "metadata": {},
     "output_type": "execute_result"
    }
   ],
   "source": [
    "df = df_mapped\n",
    "df.head()"
   ],
   "metadata": {
    "collapsed": false,
    "ExecuteTime": {
     "end_time": "2024-03-02T20:07:36.279772Z",
     "start_time": "2024-03-02T20:07:36.244065Z"
    }
   }
  },
  {
   "cell_type": "code",
   "execution_count": 80,
   "outputs": [
    {
     "data": {
      "text/plain": "       class cap-shape cap-surface cap-color bruises  odor gill-attachment  \\\ncount   8123      8123        8123      8123    8123  8123            8123   \nunique     2         6           4        10       2     9               2   \ntop        e    convex       scaly     brown      no  none            free   \nfreq    4208      3655        3244      2283    4748  3528            7913   \n\n       gill-spacing gill-size gill-color  ... stalk-surface-below-ring  \\\ncount          8123      8123       8123  ...                     8123   \nunique            2         2         12  ...                        4   \ntop           close     broad       buff  ...                   smooth   \nfreq           6811      5612       1728  ...                     4935   \n\n       stalk-color-above-ring stalk-color-below-ring veil-type veil-color  \\\ncount                    8123                   8123      8123       8123   \nunique                      9                      9         1          4   \ntop                     white                  white   partial      white   \nfreq                     4463                   4383      8123       7923   \n\n       ring-number ring-type spore-print-color population habitat  \ncount         8123      8123              8123       8123    8123  \nunique           3         5                 9          6       7  \ntop            one   pendant             white    several   woods  \nfreq          7487      3967              2388       4040    3148  \n\n[4 rows x 23 columns]",
      "text/html": "<div>\n<style scoped>\n    .dataframe tbody tr th:only-of-type {\n        vertical-align: middle;\n    }\n\n    .dataframe tbody tr th {\n        vertical-align: top;\n    }\n\n    .dataframe thead th {\n        text-align: right;\n    }\n</style>\n<table border=\"1\" class=\"dataframe\">\n  <thead>\n    <tr style=\"text-align: right;\">\n      <th></th>\n      <th>class</th>\n      <th>cap-shape</th>\n      <th>cap-surface</th>\n      <th>cap-color</th>\n      <th>bruises</th>\n      <th>odor</th>\n      <th>gill-attachment</th>\n      <th>gill-spacing</th>\n      <th>gill-size</th>\n      <th>gill-color</th>\n      <th>...</th>\n      <th>stalk-surface-below-ring</th>\n      <th>stalk-color-above-ring</th>\n      <th>stalk-color-below-ring</th>\n      <th>veil-type</th>\n      <th>veil-color</th>\n      <th>ring-number</th>\n      <th>ring-type</th>\n      <th>spore-print-color</th>\n      <th>population</th>\n      <th>habitat</th>\n    </tr>\n  </thead>\n  <tbody>\n    <tr>\n      <th>count</th>\n      <td>8123</td>\n      <td>8123</td>\n      <td>8123</td>\n      <td>8123</td>\n      <td>8123</td>\n      <td>8123</td>\n      <td>8123</td>\n      <td>8123</td>\n      <td>8123</td>\n      <td>8123</td>\n      <td>...</td>\n      <td>8123</td>\n      <td>8123</td>\n      <td>8123</td>\n      <td>8123</td>\n      <td>8123</td>\n      <td>8123</td>\n      <td>8123</td>\n      <td>8123</td>\n      <td>8123</td>\n      <td>8123</td>\n    </tr>\n    <tr>\n      <th>unique</th>\n      <td>2</td>\n      <td>6</td>\n      <td>4</td>\n      <td>10</td>\n      <td>2</td>\n      <td>9</td>\n      <td>2</td>\n      <td>2</td>\n      <td>2</td>\n      <td>12</td>\n      <td>...</td>\n      <td>4</td>\n      <td>9</td>\n      <td>9</td>\n      <td>1</td>\n      <td>4</td>\n      <td>3</td>\n      <td>5</td>\n      <td>9</td>\n      <td>6</td>\n      <td>7</td>\n    </tr>\n    <tr>\n      <th>top</th>\n      <td>e</td>\n      <td>convex</td>\n      <td>scaly</td>\n      <td>brown</td>\n      <td>no</td>\n      <td>none</td>\n      <td>free</td>\n      <td>close</td>\n      <td>broad</td>\n      <td>buff</td>\n      <td>...</td>\n      <td>smooth</td>\n      <td>white</td>\n      <td>white</td>\n      <td>partial</td>\n      <td>white</td>\n      <td>one</td>\n      <td>pendant</td>\n      <td>white</td>\n      <td>several</td>\n      <td>woods</td>\n    </tr>\n    <tr>\n      <th>freq</th>\n      <td>4208</td>\n      <td>3655</td>\n      <td>3244</td>\n      <td>2283</td>\n      <td>4748</td>\n      <td>3528</td>\n      <td>7913</td>\n      <td>6811</td>\n      <td>5612</td>\n      <td>1728</td>\n      <td>...</td>\n      <td>4935</td>\n      <td>4463</td>\n      <td>4383</td>\n      <td>8123</td>\n      <td>7923</td>\n      <td>7487</td>\n      <td>3967</td>\n      <td>2388</td>\n      <td>4040</td>\n      <td>3148</td>\n    </tr>\n  </tbody>\n</table>\n<p>4 rows × 23 columns</p>\n</div>"
     },
     "execution_count": 80,
     "metadata": {},
     "output_type": "execute_result"
    }
   ],
   "source": [
    "df.describe()\n",
    "df_mapped.isnull().sum()"
   ],
   "metadata": {
    "collapsed": false,
    "ExecuteTime": {
     "end_time": "2024-03-03T00:47:18.198226Z",
     "start_time": "2024-03-03T00:47:18.160516Z"
    }
   }
  },
  {
   "cell_type": "markdown",
   "source": [
    "**Data Visualization**"
   ],
   "metadata": {
    "collapsed": false
   }
  },
  {
   "cell_type": "markdown",
   "source": [
    "Frequency Bar Chart"
   ],
   "metadata": {
    "collapsed": false
   }
  },
  {
   "cell_type": "code",
   "execution_count": 17,
   "outputs": [],
   "source": [
    "columns_to_plot = df.columns[:-1]\n",
    "\n",
    "# Loop through columns and create bar charts\n",
    "for col in columns_to_plot:\n",
    "    df[col].value_counts().plot(kind='bar')\n",
    "    plt.title(f\"Frequency of {col}\")\n",
    "    plt.xlabel(col)\n",
    "    plt.ylabel(\"Count\")\n",
    "    plt.show()"
   ],
   "metadata": {
    "collapsed": false,
    "ExecuteTime": {
     "end_time": "2024-03-02T20:07:52.307170Z",
     "start_time": "2024-03-02T20:07:52.229497Z"
    }
   }
  },
  {
   "cell_type": "markdown",
   "source": [
    "Scatterplots"
   ],
   "metadata": {
    "collapsed": false
   }
  },
  {
   "cell_type": "code",
   "execution_count": 18,
   "outputs": [],
   "source": [
    "features = df.columns.tolist()\n",
    "features.remove('class')  # Remove 'class' from the list of features \n",
    "\n",
    "for feature in features:\n",
    "    sns.countplot(x=feature, hue='class', data=df)\n",
    "    plt.title(f\"Distribution of {feature} by Edibility\")\n",
    "    plt.show()"
   ],
   "metadata": {
    "collapsed": false,
    "ExecuteTime": {
     "end_time": "2024-03-02T20:08:01.983709Z",
     "start_time": "2024-03-02T20:08:01.947284Z"
    }
   }
  },
  {
   "cell_type": "markdown",
   "source": [
    "**Check distribution of `edible` and `poisonous`**"
   ],
   "metadata": {
    "collapsed": false
   }
  },
  {
   "cell_type": "code",
   "execution_count": 9,
   "outputs": [
    {
     "data": {
      "text/plain": "<Figure size 640x480 with 1 Axes>",
      "image/png": "[encoded data removed]"
     },
     "metadata": {},
     "output_type": "display_data"
    }
   ],
   "source": [
    "df['class'].value_counts().plot(kind='bar')\n",
    "plt.title('Distribution of Target Classes')\n",
    "plt.xlabel('Class')\n",
    "plt.ylabel('Frequency')\n",
    "plt.show()"
   ],
   "metadata": {
    "collapsed": false,
    "ExecuteTime": {
     "end_time": "2024-03-02T20:07:39.732737Z",
     "start_time": "2024-03-02T20:07:39.665411Z"
    }
   }
  },
  {
   "cell_type": "markdown",
   "source": [
    "Linearity Determination"
   ],
   "metadata": {
    "collapsed": false
   }
  },
  {
   "cell_type": "code",
   "execution_count": 10,
   "outputs": [],
   "source": [
    "def plot_random_feature_pairs_grid(df):\n",
    "    \"\"\"\n",
    "    Generates scatter plots of random feature pairs arranged in a 2x2 grid.\n",
    "\n",
    "    Args:\n",
    "        df (DataFrame): The DataFrame containing your data.\n",
    "    \"\"\"\n",
    "    features = df.columns.tolist()  \n",
    "\n",
    "    fig, axes = plt.subplots(nrows=2, ncols=2, figsize=(10, 8)) # Create 2x2 grid\n",
    "\n",
    "    for ax in axes.flat:  # Iterate over the axes in the grid\n",
    "        feature_1, feature_2 = random.sample(features, 2) \n",
    "        ax.scatter(df[feature_1], df[feature_2])\n",
    "        ax.set_xlabel(feature_1)\n",
    "        ax.set_ylabel(feature_2)\n",
    "        ax.set_title(f\"Scatter Plot: {feature_1} vs. {feature_2}\")\n",
    "\n",
    "    plt.tight_layout()  # Adjust layout to prevent overlap\n",
    "    plt.show()"
   ],
   "metadata": {
    "collapsed": false,
    "ExecuteTime": {
     "end_time": "2024-03-02T20:07:39.733039Z",
     "start_time": "2024-03-02T20:07:39.729465Z"
    }
   }
  },
  {
   "cell_type": "code",
   "execution_count": 19,
   "outputs": [],
   "source": [
    "# Example usage (call the function repeatedly)\n",
    "plot_random_feature_pairs_grid(df)"
   ],
   "metadata": {
    "collapsed": false,
    "ExecuteTime": {
     "end_time": "2024-03-02T20:08:21.119764Z",
     "start_time": "2024-03-02T20:08:21.091450Z"
    }
   }
  },
  {
   "cell_type": "markdown",
   "source": [
    "**One-Hot Encoding**"
   ],
   "metadata": {
    "collapsed": false
   }
  },
  {
   "cell_type": "code",
   "execution_count": 12,
   "outputs": [
    {
     "data": {
      "text/plain": "   class_e  class_p  cap-shape_bell  cap-shape_conical  cap-shape_convex  \\\n0      1.0      0.0             0.0                0.0               1.0   \n1      1.0      0.0             1.0                0.0               0.0   \n2      0.0      1.0             0.0                0.0               1.0   \n3      1.0      0.0             0.0                0.0               1.0   \n4      1.0      0.0             0.0                0.0               1.0   \n\n   cap-shape_flat  cap-shape_knobbed  cap-shape_sunken  cap-surface_fibrous  \\\n0             0.0                0.0               0.0                  0.0   \n1             0.0                0.0               0.0                  0.0   \n2             0.0                0.0               0.0                  0.0   \n3             0.0                0.0               0.0                  0.0   \n4             0.0                0.0               0.0                  0.0   \n\n   cap-surface_grooves  ...  population_scattered  population_several  \\\n0                  0.0  ...                   0.0                 0.0   \n1                  0.0  ...                   0.0                 0.0   \n2                  0.0  ...                   1.0                 0.0   \n3                  0.0  ...                   0.0                 0.0   \n4                  0.0  ...                   0.0                 0.0   \n\n   population_solitary  habitat_grasses  habitat_leaves  habitat_meadows  \\\n0                  0.0              1.0             0.0              0.0   \n1                  0.0              0.0             0.0              1.0   \n2                  0.0              0.0             0.0              0.0   \n3                  0.0              1.0             0.0              0.0   \n4                  0.0              1.0             0.0              0.0   \n\n   habitat_paths  habitat_urban  habitat_waste  habitat_woods  \n0            0.0            0.0            0.0            0.0  \n1            0.0            0.0            0.0            0.0  \n2            0.0            1.0            0.0            0.0  \n3            0.0            0.0            0.0            0.0  \n4            0.0            0.0            0.0            0.0  \n\n[5 rows x 119 columns]",
      "text/html": "<div>\n<style scoped>\n    .dataframe tbody tr th:only-of-type {\n        vertical-align: middle;\n    }\n\n    .dataframe tbody tr th {\n        vertical-align: top;\n    }\n\n    .dataframe thead th {\n        text-align: right;\n    }\n</style>\n<table border=\"1\" class=\"dataframe\">\n  <thead>\n    <tr style=\"text-align: right;\">\n      <th></th>\n      <th>class_e</th>\n      <th>class_p</th>\n      <th>cap-shape_bell</th>\n      <th>cap-shape_conical</th>\n      <th>cap-shape_convex</th>\n      <th>cap-shape_flat</th>\n      <th>cap-shape_knobbed</th>\n      <th>cap-shape_sunken</th>\n      <th>cap-surface_fibrous</th>\n      <th>cap-surface_grooves</th>\n      <th>...</th>\n      <th>population_scattered</th>\n      <th>population_several</th>\n      <th>population_solitary</th>\n      <th>habitat_grasses</th>\n      <th>habitat_leaves</th>\n      <th>habitat_meadows</th>\n      <th>habitat_paths</th>\n      <th>habitat_urban</th>\n      <th>habitat_waste</th>\n      <th>habitat_woods</th>\n    </tr>\n  </thead>\n  <tbody>\n    <tr>\n      <th>0</th>\n      <td>1.0</td>\n      <td>0.0</td>\n      <td>0.0</td>\n      <td>0.0</td>\n      <td>1.0</td>\n      <td>0.0</td>\n      <td>0.0</td>\n      <td>0.0</td>\n      <td>0.0</td>\n      <td>0.0</td>\n      <td>...</td>\n      <td>0.0</td>\n      <td>0.0</td>\n      <td>0.0</td>\n      <td>1.0</td>\n      <td>0.0</td>\n      <td>0.0</td>\n      <td>0.0</td>\n      <td>0.0</td>\n      <td>0.0</td>\n      <td>0.0</td>\n    </tr>\n    <tr>\n      <th>1</th>\n      <td>1.0</td>\n      <td>0.0</td>\n      <td>1.0</td>\n      <td>0.0</td>\n      <td>0.0</td>\n      <td>0.0</td>\n      <td>0.0</td>\n      <td>0.0</td>\n      <td>0.0</td>\n      <td>0.0</td>\n      <td>...</td>\n      <td>0.0</td>\n      <td>0.0</td>\n      <td>0.0</td>\n      <td>0.0</td>\n      <td>0.0</td>\n      <td>1.0</td>\n      <td>0.0</td>\n      <td>0.0</td>\n      <td>0.0</td>\n      <td>0.0</td>\n    </tr>\n    <tr>\n      <th>2</th>\n      <td>0.0</td>\n      <td>1.0</td>\n      <td>0.0</td>\n      <td>0.0</td>\n      <td>1.0</td>\n      <td>0.0</td>\n      <td>0.0</td>\n      <td>0.0</td>\n      <td>0.0</td>\n      <td>0.0</td>\n      <td>...</td>\n      <td>1.0</td>\n      <td>0.0</td>\n      <td>0.0</td>\n      <td>0.0</td>\n      <td>0.0</td>\n      <td>0.0</td>\n      <td>0.0</td>\n      <td>1.0</td>\n      <td>0.0</td>\n      <td>0.0</td>\n    </tr>\n    <tr>\n      <th>3</th>\n      <td>1.0</td>\n      <td>0.0</td>\n      <td>0.0</td>\n      <td>0.0</td>\n      <td>1.0</td>\n      <td>0.0</td>\n      <td>0.0</td>\n      <td>0.0</td>\n      <td>0.0</td>\n      <td>0.0</td>\n      <td>...</td>\n      <td>0.0</td>\n      <td>0.0</td>\n      <td>0.0</td>\n      <td>1.0</td>\n      <td>0.0</td>\n      <td>0.0</td>\n      <td>0.0</td>\n      <td>0.0</td>\n      <td>0.0</td>\n      <td>0.0</td>\n    </tr>\n    <tr>\n      <th>4</th>\n      <td>1.0</td>\n      <td>0.0</td>\n      <td>0.0</td>\n      <td>0.0</td>\n      <td>1.0</td>\n      <td>0.0</td>\n      <td>0.0</td>\n      <td>0.0</td>\n      <td>0.0</td>\n      <td>0.0</td>\n      <td>...</td>\n      <td>0.0</td>\n      <td>0.0</td>\n      <td>0.0</td>\n      <td>1.0</td>\n      <td>0.0</td>\n      <td>0.0</td>\n      <td>0.0</td>\n      <td>0.0</td>\n      <td>0.0</td>\n      <td>0.0</td>\n    </tr>\n  </tbody>\n</table>\n<p>5 rows × 119 columns</p>\n</div>"
     },
     "execution_count": 12,
     "metadata": {},
     "output_type": "execute_result"
    }
   ],
   "source": [
    "encoder = OneHotEncoder(handle_unknown='ignore', sparse_output=False) \n",
    "categorical_features = df.select_dtypes(include=['object']).columns\n",
    "encoded_data = encoder.fit_transform(df[categorical_features])\n",
    "\n",
    "new_column_names = encoder.get_feature_names_out(categorical_features)\n",
    "df_encoded = pd.DataFrame(encoded_data, columns=new_column_names)\n",
    "\n",
    "#df - original mapped dataframe\n",
    "#df_encoded - dataframe after one-hot encoding\n",
    "df_encoded.head()"
   ],
   "metadata": {
    "collapsed": false,
    "ExecuteTime": {
     "end_time": "2024-03-02T20:07:39.982209Z",
     "start_time": "2024-03-02T20:07:39.944952Z"
    }
   }
  },
  {
   "cell_type": "code",
   "execution_count": 13,
   "outputs": [
    {
     "name": "stdout",
     "output_type": "stream",
     "text": [
      "<class 'pandas.core.frame.DataFrame'>\n",
      "RangeIndex: 8123 entries, 0 to 8122\n",
      "Columns: 119 entries, class_e to habitat_woods\n",
      "dtypes: float64(119)\n",
      "memory usage: 7.4 MB\n"
     ]
    }
   ],
   "source": [
    "df_encoded.info()"
   ],
   "metadata": {
    "collapsed": false,
    "ExecuteTime": {
     "end_time": "2024-03-02T20:07:39.982971Z",
     "start_time": "2024-03-02T20:07:39.978986Z"
    }
   }
  },
  {
   "cell_type": "markdown",
   "source": [
    "**one-hot-encoding except the target (`class`) column**"
   ],
   "metadata": {
    "collapsed": false
   }
  },
  {
   "cell_type": "code",
   "execution_count": 76,
   "outputs": [],
   "source": [
    "# 1. Split into training and testing sets FIRST\n",
    "X_train, X_test, y_train, y_test = train_test_split(df_mapped, df_mapped['class'],  test_size=0.2, random_state=42)\n",
    "\n",
    "# 2. One-hot encode features separately\n",
    "encoder = OneHotEncoder(sparse_output=False, handle_unknown='ignore')\n",
    "\n",
    "# Fit and transform training features\n",
    "X_train_encoded = encoder.fit_transform(X_train.drop('class', axis=1)) \n",
    "feature_names = encoder.get_feature_names_out(X_train.drop('class', axis=1).columns)  # Adjust if needed\n",
    "X_train_encoded_df = pd.DataFrame(X_train_encoded, columns=feature_names)\n",
    "\n",
    "# Transform testing features (using encoder fit on training data)\n",
    "X_test_encoded = encoder.transform(X_test.drop('class', axis=1))\n",
    "X_test_encoded_df = pd.DataFrame(X_test_encoded, columns=feature_names)\n",
    "\n",
    "# 3. Map target variable separately\n",
    "y_train = y_train.map({'e': 1.0, 'p': 0.0}) \n",
    "y_test = y_test.map({'e': 1.0, 'p': 0.0}) \n"
   ],
   "metadata": {
    "collapsed": false,
    "ExecuteTime": {
     "end_time": "2024-03-02T23:53:09.481905Z",
     "start_time": "2024-03-02T23:53:09.346334Z"
    }
   }
  },
  {
   "cell_type": "markdown",
   "source": [
    "**Test Logistic Regression**"
   ],
   "metadata": {
    "collapsed": false
   }
  },
  {
   "cell_type": "code",
   "execution_count": 77,
   "outputs": [
    {
     "name": "stdout",
     "output_type": "stream",
     "text": [
      "Accuracy: 1.0\n",
      "Classification Report:\n",
      "               precision    recall  f1-score   support\n",
      "\n",
      "         0.0       1.00      1.00      1.00       772\n",
      "         1.0       1.00      1.00      1.00       853\n",
      "\n",
      "    accuracy                           1.00      1625\n",
      "   macro avg       1.00      1.00      1.00      1625\n",
      "weighted avg       1.00      1.00      1.00      1625\n",
      "\n",
      "Confusion Matrix:\n",
      " [[772   0]\n",
      " [  0 853]]\n"
     ]
    }
   ],
   "source": [
    "log_reg = LogisticRegression(max_iter=10000)  \n",
    "\n",
    "# Train the model on the training set\n",
    "log_reg.fit(X_train_encoded_df, y_train)\n",
    "\n",
    "# Predict on the testing set\n",
    "y_pred = log_reg.predict(X_test_encoded_df)\n",
    "\n",
    "# Evaluate Performance\n",
    "accuracy = accuracy_score(y_test, y_pred)\n",
    "print(f\"Accuracy: {accuracy}\")\n",
    "\n",
    "class_report = classification_report(y_test, y_pred)\n",
    "print(\"Classification Report:\\n\", class_report)\n",
    "\n",
    "conf_matrix = confusion_matrix(y_test, y_pred)\n",
    "print(\"Confusion Matrix:\\n\", conf_matrix)"
   ],
   "metadata": {
    "collapsed": false,
    "ExecuteTime": {
     "end_time": "2024-03-02T23:53:25.799916Z",
     "start_time": "2024-03-02T23:53:25.701557Z"
    }
   }
  },
  {
   "cell_type": "markdown",
   "source": [
    "**Standardization**"
   ],
   "metadata": {
    "collapsed": false
   }
  },
  {
   "cell_type": "code",
   "execution_count": 56,
   "outputs": [
    {
     "data": {
      "text/plain": "   class_e  class_p  cap-shape_bell  cap-shape_conical  cap-shape_convex  \\\n0      1.0      0.0       -0.242741          -0.022196          1.105638   \n1      1.0      0.0        4.119616          -0.022196         -0.904455   \n2      0.0      1.0       -0.242741          -0.022196          1.105638   \n3      1.0      0.0       -0.242741          -0.022196          1.105638   \n4      1.0      0.0       -0.242741          -0.022196          1.105638   \n\n   cap-shape_flat  cap-shape_knobbed  cap-shape_sunken  cap-surface_fibrous  \\\n0        -0.79629          -0.336901         -0.062889            -0.632292   \n1        -0.79629          -0.336901         -0.062889            -0.632292   \n2        -0.79629          -0.336901         -0.062889            -0.632292   \n3        -0.79629          -0.336901         -0.062889            -0.632292   \n4        -0.79629          -0.336901         -0.062889            -0.632292   \n\n   cap-surface_grooves  ...  population_scattered  population_several  \\\n0            -0.022196  ...             -0.425858            -0.99472   \n1            -0.022196  ...             -0.425858            -0.99472   \n2            -0.022196  ...              2.348198            -0.99472   \n3            -0.022196  ...             -0.425858            -0.99472   \n4            -0.022196  ...             -0.425858            -0.99472   \n\n   population_solitary  habitat_grasses  habitat_leaves  habitat_meadows  \\\n0             -0.51676         1.667830       -0.337807        -0.193100   \n1             -0.51676        -0.599581       -0.337807         5.178657   \n2             -0.51676        -0.599581       -0.337807        -0.193100   \n3             -0.51676         1.667830       -0.337807        -0.193100   \n4             -0.51676         1.667830       -0.337807        -0.193100   \n\n   habitat_paths  habitat_urban  habitat_waste  habitat_woods  \n0      -0.404871      -0.217527      -0.155592      -0.795465  \n1      -0.404871      -0.217527      -0.155592      -0.795465  \n2      -0.404871       4.597120      -0.155592      -0.795465  \n3      -0.404871      -0.217527      -0.155592      -0.795465  \n4      -0.404871      -0.217527      -0.155592      -0.795465  \n\n[5 rows x 119 columns]",
      "text/html": "<div>\n<style scoped>\n    .dataframe tbody tr th:only-of-type {\n        vertical-align: middle;\n    }\n\n    .dataframe tbody tr th {\n        vertical-align: top;\n    }\n\n    .dataframe thead th {\n        text-align: right;\n    }\n</style>\n<table border=\"1\" class=\"dataframe\">\n  <thead>\n    <tr style=\"text-align: right;\">\n      <th></th>\n      <th>class_e</th>\n      <th>class_p</th>\n      <th>cap-shape_bell</th>\n      <th>cap-shape_conical</th>\n      <th>cap-shape_convex</th>\n      <th>cap-shape_flat</th>\n      <th>cap-shape_knobbed</th>\n      <th>cap-shape_sunken</th>\n      <th>cap-surface_fibrous</th>\n      <th>cap-surface_grooves</th>\n      <th>...</th>\n      <th>population_scattered</th>\n      <th>population_several</th>\n      <th>population_solitary</th>\n      <th>habitat_grasses</th>\n      <th>habitat_leaves</th>\n      <th>habitat_meadows</th>\n      <th>habitat_paths</th>\n      <th>habitat_urban</th>\n      <th>habitat_waste</th>\n      <th>habitat_woods</th>\n    </tr>\n  </thead>\n  <tbody>\n    <tr>\n      <th>0</th>\n      <td>1.0</td>\n      <td>0.0</td>\n      <td>-0.242741</td>\n      <td>-0.022196</td>\n      <td>1.105638</td>\n      <td>-0.79629</td>\n      <td>-0.336901</td>\n      <td>-0.062889</td>\n      <td>-0.632292</td>\n      <td>-0.022196</td>\n      <td>...</td>\n      <td>-0.425858</td>\n      <td>-0.99472</td>\n      <td>-0.51676</td>\n      <td>1.667830</td>\n      <td>-0.337807</td>\n      <td>-0.193100</td>\n      <td>-0.404871</td>\n      <td>-0.217527</td>\n      <td>-0.155592</td>\n      <td>-0.795465</td>\n    </tr>\n    <tr>\n      <th>1</th>\n      <td>1.0</td>\n      <td>0.0</td>\n      <td>4.119616</td>\n      <td>-0.022196</td>\n      <td>-0.904455</td>\n      <td>-0.79629</td>\n      <td>-0.336901</td>\n      <td>-0.062889</td>\n      <td>-0.632292</td>\n      <td>-0.022196</td>\n      <td>...</td>\n      <td>-0.425858</td>\n      <td>-0.99472</td>\n      <td>-0.51676</td>\n      <td>-0.599581</td>\n      <td>-0.337807</td>\n      <td>5.178657</td>\n      <td>-0.404871</td>\n      <td>-0.217527</td>\n      <td>-0.155592</td>\n      <td>-0.795465</td>\n    </tr>\n    <tr>\n      <th>2</th>\n      <td>0.0</td>\n      <td>1.0</td>\n      <td>-0.242741</td>\n      <td>-0.022196</td>\n      <td>1.105638</td>\n      <td>-0.79629</td>\n      <td>-0.336901</td>\n      <td>-0.062889</td>\n      <td>-0.632292</td>\n      <td>-0.022196</td>\n      <td>...</td>\n      <td>2.348198</td>\n      <td>-0.99472</td>\n      <td>-0.51676</td>\n      <td>-0.599581</td>\n      <td>-0.337807</td>\n      <td>-0.193100</td>\n      <td>-0.404871</td>\n      <td>4.597120</td>\n      <td>-0.155592</td>\n      <td>-0.795465</td>\n    </tr>\n    <tr>\n      <th>3</th>\n      <td>1.0</td>\n      <td>0.0</td>\n      <td>-0.242741</td>\n      <td>-0.022196</td>\n      <td>1.105638</td>\n      <td>-0.79629</td>\n      <td>-0.336901</td>\n      <td>-0.062889</td>\n      <td>-0.632292</td>\n      <td>-0.022196</td>\n      <td>...</td>\n      <td>-0.425858</td>\n      <td>-0.99472</td>\n      <td>-0.51676</td>\n      <td>1.667830</td>\n      <td>-0.337807</td>\n      <td>-0.193100</td>\n      <td>-0.404871</td>\n      <td>-0.217527</td>\n      <td>-0.155592</td>\n      <td>-0.795465</td>\n    </tr>\n    <tr>\n      <th>4</th>\n      <td>1.0</td>\n      <td>0.0</td>\n      <td>-0.242741</td>\n      <td>-0.022196</td>\n      <td>1.105638</td>\n      <td>-0.79629</td>\n      <td>-0.336901</td>\n      <td>-0.062889</td>\n      <td>-0.632292</td>\n      <td>-0.022196</td>\n      <td>...</td>\n      <td>-0.425858</td>\n      <td>-0.99472</td>\n      <td>-0.51676</td>\n      <td>1.667830</td>\n      <td>-0.337807</td>\n      <td>-0.193100</td>\n      <td>-0.404871</td>\n      <td>-0.217527</td>\n      <td>-0.155592</td>\n      <td>-0.795465</td>\n    </tr>\n  </tbody>\n</table>\n<p>5 rows × 119 columns</p>\n</div>"
     },
     "execution_count": 56,
     "metadata": {},
     "output_type": "execute_result"
    }
   ],
   "source": [
    "features_to_scale = [col for col in df_encoded.columns if col not in ['class_e', 'class_p']]\n",
    "\n",
    "scaler = StandardScaler()\n",
    "df_encoded[features_to_scale]  = scaler.fit_transform(df_encoded[features_to_scale])\n",
    "\n",
    "df_scaled = pd.DataFrame(df_encoded, columns=df_encoded.columns) \n",
    "df_scaled.head()"
   ],
   "metadata": {
    "collapsed": false,
    "ExecuteTime": {
     "end_time": "2024-03-02T22:20:20.276943Z",
     "start_time": "2024-03-02T22:20:20.189478Z"
    }
   }
  },
  {
   "cell_type": "markdown",
   "source": [
    "**Robust Scaling**"
   ],
   "metadata": {
    "collapsed": false
   }
  },
  {
   "cell_type": "code",
   "execution_count": null,
   "outputs": [],
   "source": [],
   "metadata": {
    "collapsed": false
   }
  },
  {
   "cell_type": "markdown",
   "source": [
    "**PCA Analysis to Attempt dimensionality reduction**"
   ],
   "metadata": {
    "collapsed": false
   }
  },
  {
   "cell_type": "code",
   "execution_count": 81,
   "outputs": [
    {
     "name": "stdout",
     "output_type": "stream",
     "text": [
      "[0.09130701 0.08091657 0.07174273 0.05835593 0.0516774  0.04376066\n",
      " 0.04053714 0.02822153 0.0235837  0.0227151  0.01945837 0.01856051\n",
      " 0.01793698 0.01576436 0.01427298 0.01333056 0.01198396 0.01137539\n",
      " 0.01125916 0.01089309 0.01043013 0.00982786 0.00973376 0.0094863\n",
      " 0.0094548  0.00923886 0.00921737 0.00912895 0.00902832 0.00875468\n",
      " 0.0086864  0.00863476 0.00863476 0.00860068 0.00853901 0.00847051\n",
      " 0.00831536 0.00811303 0.00801388 0.00790986 0.00764345 0.00749965\n",
      " 0.00716627 0.00707685 0.0069157  0.00676447 0.00666416 0.00635892\n",
      " 0.0061775  0.00602129 0.00599228 0.00570153 0.00558121 0.00536472\n",
      " 0.00517578 0.00504766 0.00473615 0.00444805 0.00427426]\n"
     ]
    }
   ],
   "source": [
    "pca = PCA(n_components=0.95)  \n",
    "\n",
    "# Fit and transform the data (since it's already standardized)\n",
    "df_pca = pca.fit_transform(df_scaled) \n",
    "\n",
    "# View the explained variance ratio for each component\n",
    "print(pca.explained_variance_ratio_)"
   ],
   "metadata": {
    "collapsed": false,
    "ExecuteTime": {
     "end_time": "2024-03-03T01:08:56.445011Z",
     "start_time": "2024-03-03T01:08:56.250092Z"
    }
   }
  },
  {
   "cell_type": "markdown",
   "source": [
    "PCA was not the best, so let's try an autoencoder"
   ],
   "metadata": {
    "collapsed": false
   }
  },
  {
   "cell_type": "code",
   "execution_count": 64,
   "outputs": [
    {
     "name": "stdout",
     "output_type": "stream",
     "text": [
      "Epoch 1/20\n",
      "204/204 [==============================] - 0s 975us/step - loss: 0.4959 - accuracy: 0.0031 - val_loss: 0.0643 - val_accuracy: 6.1538e-04\n",
      "Epoch 2/20\n",
      "204/204 [==============================] - 0s 652us/step - loss: -0.8181 - accuracy: 0.0000e+00 - val_loss: -4.1201 - val_accuracy: 0.0000e+00\n",
      "Epoch 3/20\n",
      "204/204 [==============================] - 0s 629us/step - loss: -76.8603 - accuracy: 0.0000e+00 - val_loss: -300.7134 - val_accuracy: 0.0000e+00\n",
      "Epoch 4/20\n",
      "204/204 [==============================] - 0s 633us/step - loss: -1775.7472 - accuracy: 0.0000e+00 - val_loss: -4670.0430 - val_accuracy: 0.0000e+00\n",
      "Epoch 5/20\n",
      "204/204 [==============================] - 0s 635us/step - loss: -14187.8574 - accuracy: 0.0000e+00 - val_loss: -28586.5508 - val_accuracy: 0.0000e+00\n",
      "Epoch 6/20\n",
      "204/204 [==============================] - 0s 636us/step - loss: -63305.0312 - accuracy: 0.0000e+00 - val_loss: -108317.6250 - val_accuracy: 0.0000e+00\n",
      "Epoch 7/20\n",
      "204/204 [==============================] - 0s 649us/step - loss: -200170.5469 - accuracy: 0.0000e+00 - val_loss: -306503.0000 - val_accuracy: 0.0000e+00\n",
      "Epoch 8/20\n",
      "204/204 [==============================] - 0s 685us/step - loss: -501346.8125 - accuracy: 0.0000e+00 - val_loss: -713844.1250 - val_accuracy: 0.0000e+00\n",
      "Epoch 9/20\n",
      "204/204 [==============================] - 0s 678us/step - loss: -1082347.3750 - accuracy: 0.0000e+00 - val_loss: -1453214.0000 - val_accuracy: 0.0000e+00\n",
      "Epoch 10/20\n",
      "204/204 [==============================] - 0s 663us/step - loss: -2085153.1250 - accuracy: 0.0000e+00 - val_loss: -2693007.7500 - val_accuracy: 0.0000e+00\n",
      "Epoch 11/20\n",
      "204/204 [==============================] - 0s 624us/step - loss: -3708252.2500 - accuracy: 0.0000e+00 - val_loss: -4636394.5000 - val_accuracy: 0.0000e+00\n",
      "Epoch 12/20\n",
      "204/204 [==============================] - 0s 625us/step - loss: -6220297.5000 - accuracy: 0.0000e+00 - val_loss: -7543057.0000 - val_accuracy: 0.0000e+00\n",
      "Epoch 13/20\n",
      "204/204 [==============================] - 0s 639us/step - loss: -9797000.0000 - accuracy: 0.0000e+00 - val_loss: -11655586.0000 - val_accuracy: 0.0000e+00\n",
      "Epoch 14/20\n",
      "204/204 [==============================] - 0s 629us/step - loss: -14813149.0000 - accuracy: 0.0000e+00 - val_loss: -17308426.0000 - val_accuracy: 0.0000e+00\n",
      "Epoch 15/20\n",
      "204/204 [==============================] - 0s 627us/step - loss: -21626648.0000 - accuracy: 0.0000e+00 - val_loss: -24883792.0000 - val_accuracy: 0.0000e+00\n",
      "Epoch 16/20\n",
      "204/204 [==============================] - 0s 627us/step - loss: -30629914.0000 - accuracy: 0.0000e+00 - val_loss: -34861272.0000 - val_accuracy: 0.0000e+00\n",
      "Epoch 17/20\n",
      "204/204 [==============================] - 0s 642us/step - loss: -42352164.0000 - accuracy: 0.0000e+00 - val_loss: -47718072.0000 - val_accuracy: 0.0000e+00\n",
      "Epoch 18/20\n",
      "204/204 [==============================] - 0s 642us/step - loss: -57176440.0000 - accuracy: 0.0000e+00 - val_loss: -63662780.0000 - val_accuracy: 0.0000e+00\n",
      "Epoch 19/20\n",
      "204/204 [==============================] - 0s 627us/step - loss: -75673512.0000 - accuracy: 0.0000e+00 - val_loss: -83409768.0000 - val_accuracy: 0.0000e+00\n",
      "Epoch 20/20\n",
      "204/204 [==============================] - 0s 629us/step - loss: -98557336.0000 - accuracy: 0.0000e+00 - val_loss: -107526792.0000 - val_accuracy: 0.0000e+00\n"
     ]
    },
    {
     "data": {
      "text/plain": "<keras.src.callbacks.History at 0x29a2e41d0>"
     },
     "execution_count": 64,
     "metadata": {},
     "output_type": "execute_result"
    }
   ],
   "source": [
    "#Prep data - drop target columns\n",
    "X = df_encoded\n",
    "y = df_encoded[['class_e', 'class_p']]\n",
    "\n",
    "#split data\n",
    "X_train, X_test, y_train, y_test = train_test_split(X, y, test_size=0.2, random_state=42)\n",
    "\n",
    "#encoder creation\n",
    "model = Sequential()\n",
    "model.add(Dense(90, activation='relu', input_shape=(119,))) \n",
    "model.add(Dense(60, activation='relu')) \n",
    "model.add(Dense(30, activation='relu'))  # Bottleneck\n",
    "\n",
    "# Step 4: Create the Decoder \n",
    "model.add(Dense(60, activation='relu'))  \n",
    "model.add(Dense(90, activation='relu'))\n",
    "model.add(Dense(119, activation='sigmoid')) \n",
    "\n",
    "optimizer = Adam(learning_rate=0.0001)\n",
    "\n",
    "# Compile the model, specifying the optimizer\n",
    "model.compile(optimizer=optimizer, loss='binary_crossentropy', metrics=['accuracy'])\n",
    "\n",
    "#train\n",
    "model.fit(X_train, X_train, epochs=20, batch_size=32, validation_data=(X_test, X_test))"
   ],
   "metadata": {
    "collapsed": false,
    "ExecuteTime": {
     "end_time": "2024-03-02T22:35:13.225958Z",
     "start_time": "2024-03-02T22:35:09.876300Z"
    }
   }
  },
  {
   "cell_type": "markdown",
   "source": [
    "**Log. Reg. Model to test encoded DF**"
   ],
   "metadata": {
    "collapsed": false
   }
  },
  {
   "cell_type": "code",
   "execution_count": null,
   "outputs": [],
   "source": [],
   "metadata": {
    "collapsed": false
   }
  }
 ],
 "metadata": {
  "kernelspec": {
   "display_name": "Python 3.11.6 ('base')",
   "language": "python",
   "name": "python3"
  },
  "language_info": {
   "codemirror_mode": {
    "name": "ipython",
    "version": 3
   },
   "file_extension": ".py",
   "mimetype": "text/x-python",
   "name": "python",
   "nbconvert_exporter": "python",
   "pygments_lexer": "ipython3",
   "version": "3.11.6"
  },
  "orig_nbformat": 4,
  "vscode": {
   "interpreter": {
    "hash": "29bf3bf4e5ca07c2dfeea41ff635140b754e818cda6d855159392e8b7ceb4723"
   }
  }
 },
 "nbformat": 4,
 "nbformat_minor": 2
}
