{
 "cells": [
  {
   "cell_type": "code",
   "execution_count": 44,
   "id": "initial_id",
   "metadata": {
    "collapsed": true,
    "ExecuteTime": {
     "end_time": "2024-03-03T04:18:22.975523Z",
     "start_time": "2024-03-03T04:18:22.960342Z"
    }
   },
   "outputs": [],
   "source": [
    "import nbimporter\n",
    "import pandas as pd\n",
    "import numpy as np\n",
    "from ucimlrepo import fetch_ucirepo, list_available_datasets\n",
    "from keras.models import Sequential\n",
    "from tensorflow.keras.optimizers.legacy import Adam\n",
    "from keras.layers import Dense\n",
    "from sklearn.model_selection import train_test_split\n",
    "import matplotlib.pyplot as plt\n",
    "from sklearn.decomposition import PCA\n",
    "import seaborn as sns\n",
    "import random\n",
    "import scipy.stats as stats\n",
    "from sklearn.preprocessing import OneHotEncoder, StandardScaler, RobustScaler\n",
    "from sklearn.ensemble import RandomForestClassifier\n",
    "from sklearn.model_selection import train_test_split, KFold\n",
    "from sklearn.linear_model import LogisticRegression\n",
    "from sklearn.model_selection import train_test_split\n",
    "from sklearn.metrics import accuracy_score, classification_report, confusion_matrix"
   ]
  },
  {
   "cell_type": "markdown",
   "source": [
    "**Get Data**"
   ],
   "metadata": {
    "collapsed": false
   },
   "id": "bff951f999419686"
  },
  {
   "cell_type": "code",
   "execution_count": 26,
   "outputs": [],
   "source": [
    "df = pd.read_csv(\"../mushroom/agaricus-lepiota.data\")\n",
    "mushroom = fetch_ucirepo(id=73)"
   ],
   "metadata": {
    "collapsed": false,
    "ExecuteTime": {
     "end_time": "2024-03-03T03:32:37.637445Z",
     "start_time": "2024-03-03T03:32:37.239624Z"
    }
   },
   "id": "265193a24e455657"
  },
  {
   "cell_type": "markdown",
   "source": [
    "**Generate Usable/Mapped Dataset**"
   ],
   "metadata": {
    "collapsed": false
   },
   "id": "7ec025ff56001006"
  },
  {
   "cell_type": "code",
   "execution_count": 27,
   "outputs": [],
   "source": [
    "mappings = {\n",
    "    'cap-shape': {'b': 'bell', 'c': 'conical', 'x': 'convex', 'f': 'flat', 'k': 'knobbed', 's': 'sunken'},\n",
    "    'cap-surface': {'f': 'fibrous', 'g': 'grooves', 'y': 'scaly', 's': 'smooth'},\n",
    "    'cap-color': {'n': 'brown', 'b': 'buff', 'c': 'cinnamon', 'g': 'gray', 'r': 'green', 'p': 'pink', 'u': 'purple', 'e': 'red', 'w': 'white', 'y': 'yellow'},\n",
    "    'bruises': {'t': 'bruises', 'f': 'no'},\n",
    "    'odor': {'a': 'almond', 'l': 'anise', 'c': 'creosote', 'y': 'fishy', 'f': 'foul', 'm': 'musty', 'n': 'none', 'p': 'pungent', 's': 'spicy'},\n",
    "    'gill-attachment': {'a': 'attached', 'd': 'descending', 'f': 'free', 'n': 'notched'},\n",
    "    'gill-spacing': {'c': 'close', 'w': 'crowded', 'd': 'distant'},\n",
    "    'gill-size': {'b': 'broad', 'n': 'narrow'},\n",
    "    'gill-color': {'k': 'black', 'n': 'brown', 'b': 'buff', 'h': 'chocolate', 'g': 'gray', 'r': 'green', 'o': 'orange', 'p': 'pink', 'u': 'purple', 'e': 'red', 'w': 'white', 'y': 'yellow'},\n",
    "    'stalk-shape': {'e': 'enlarging', 't': 'tapering'},\n",
    "    'stalk-root': {'b': 'bulbous', 'c': 'club', 'u': 'cup', 'e': 'equal', 'z': 'rhizomorphs', 'r': 'rooted', '?': 'missing'},\n",
    "    'stalk-surface-above-ring': {'f': 'fibrous', 'y': 'scaly', 'k': 'silky', 's': 'smooth'},\n",
    "    'stalk-surface-below-ring': {'f': 'fibrous', 'y': 'scaly', 'k': 'silky', 's': 'smooth'},\n",
    "    'stalk-color-above-ring': {'n': 'brown', 'b': 'buff', 'c': 'cinnamon', 'g': 'gray', 'o': 'orange', 'p': 'pink', 'e': 'red', 'w': 'white', 'y': 'yellow'},\n",
    "    'stalk-color-below-ring': {'n': 'brown', 'b': 'buff', 'c': 'cinnamon', 'g': 'gray', 'o': 'orange', 'p': 'pink', 'e': 'red', 'w': 'white', 'y': 'yellow'},\n",
    "    'veil-type': {'p': 'partial', 'u': 'universal'},\n",
    "    'veil-color': {'n': 'brown', 'o': 'orange', 'w': 'white', 'y': 'yellow'},\n",
    "    'ring-number': {'n': 'none', 'o': 'one', 't': 'two'},\n",
    "    'ring-type': {'c': 'cobwebby', 'e': 'evanescent', 'f': 'flaring', 'l': 'large', 'n': 'none', 'p': 'pendant', 's': 'sheathing', 'z': 'zone'},\n",
    "    'spore-print-color': {'k': 'black', 'n': 'brown', 'b': 'buff', 'h': 'chocolate', 'r': 'green', 'o': 'orange', 'u': 'purple', 'w': 'white', 'y': 'yellow'},\n",
    "    'population': {'a': 'abundant', 'c': 'clustered', 'n': 'numerous', 's': 'scattered', 'v': 'several', 'y': 'solitary'},\n",
    "    'habitat': {'g': 'grasses', 'l': 'leaves', 'm': 'meadows', 'p': 'paths', 'u': 'urban', 'w': 'waste', 'd': 'woods'}\n",
    "}\n",
    "\n",
    "df.columns = ['class', 'cap-shape', 'cap-surface', 'cap-color', 'bruises', 'odor', 'gill-attachment', 'gill-spacing', 'gill-size', 'gill-color', 'stalk-shape', 'stalk-root', 'stalk-surface-above-ring',  'stalk-surface-below-ring', 'stalk-color-above-ring', 'stalk-color-below-ring', 'veil-type', 'veil-color', 'ring-number',  'ring-type',  'spore-print-color', 'population',  'habitat']\n",
    "\n",
    "#apply mappings to the dataframe\n",
    "def map_features(df, mappings):\n",
    "    for column in df.columns:\n",
    "        if column in mappings:\n",
    "            df[column] = df[column].map(mappings[column]).fillna(df[column])\n",
    "    return df\n",
    "\n",
    "# Apply the mappings to the dataframe\n",
    "df_mapped = map_features(df, mappings)"
   ],
   "metadata": {
    "collapsed": false,
    "ExecuteTime": {
     "end_time": "2024-03-03T03:32:39.586991Z",
     "start_time": "2024-03-03T03:32:39.567230Z"
    }
   },
   "id": "3d0108c297691a38"
  },
  {
   "cell_type": "code",
   "execution_count": 28,
   "outputs": [
    {
     "data": {
      "text/plain": "  class cap-shape cap-surface cap-color  bruises     odor gill-attachment  \\\n0     e    convex      smooth    yellow  bruises   almond            free   \n1     e      bell      smooth     white  bruises    anise            free   \n2     p    convex       scaly     white  bruises  pungent            free   \n3     e    convex      smooth      gray       no     none            free   \n4     e    convex       scaly    yellow  bruises   almond            free   \n\n  gill-spacing gill-size gill-color  ... stalk-surface-below-ring  \\\n0        close     broad      black  ...                   smooth   \n1        close     broad      brown  ...                   smooth   \n2        close    narrow      brown  ...                   smooth   \n3      crowded     broad      black  ...                   smooth   \n4        close     broad      brown  ...                   smooth   \n\n  stalk-color-above-ring stalk-color-below-ring veil-type veil-color  \\\n0                  white                  white   partial      white   \n1                  white                  white   partial      white   \n2                  white                  white   partial      white   \n3                  white                  white   partial      white   \n4                  white                  white   partial      white   \n\n  ring-number   ring-type spore-print-color population  habitat  \n0         one     pendant             brown   numerous  grasses  \n1         one     pendant             brown   numerous  meadows  \n2         one     pendant             black  scattered    urban  \n3         one  evanescent             brown   abundant  grasses  \n4         one     pendant             black   numerous  grasses  \n\n[5 rows x 23 columns]",
      "text/html": "<div>\n<style scoped>\n    .dataframe tbody tr th:only-of-type {\n        vertical-align: middle;\n    }\n\n    .dataframe tbody tr th {\n        vertical-align: top;\n    }\n\n    .dataframe thead th {\n        text-align: right;\n    }\n</style>\n<table border=\"1\" class=\"dataframe\">\n  <thead>\n    <tr style=\"text-align: right;\">\n      <th></th>\n      <th>class</th>\n      <th>cap-shape</th>\n      <th>cap-surface</th>\n      <th>cap-color</th>\n      <th>bruises</th>\n      <th>odor</th>\n      <th>gill-attachment</th>\n      <th>gill-spacing</th>\n      <th>gill-size</th>\n      <th>gill-color</th>\n      <th>...</th>\n      <th>stalk-surface-below-ring</th>\n      <th>stalk-color-above-ring</th>\n      <th>stalk-color-below-ring</th>\n      <th>veil-type</th>\n      <th>veil-color</th>\n      <th>ring-number</th>\n      <th>ring-type</th>\n      <th>spore-print-color</th>\n      <th>population</th>\n      <th>habitat</th>\n    </tr>\n  </thead>\n  <tbody>\n    <tr>\n      <th>0</th>\n      <td>e</td>\n      <td>convex</td>\n      <td>smooth</td>\n      <td>yellow</td>\n      <td>bruises</td>\n      <td>almond</td>\n      <td>free</td>\n      <td>close</td>\n      <td>broad</td>\n      <td>black</td>\n      <td>...</td>\n      <td>smooth</td>\n      <td>white</td>\n      <td>white</td>\n      <td>partial</td>\n      <td>white</td>\n      <td>one</td>\n      <td>pendant</td>\n      <td>brown</td>\n      <td>numerous</td>\n      <td>grasses</td>\n    </tr>\n    <tr>\n      <th>1</th>\n      <td>e</td>\n      <td>bell</td>\n      <td>smooth</td>\n      <td>white</td>\n      <td>bruises</td>\n      <td>anise</td>\n      <td>free</td>\n      <td>close</td>\n      <td>broad</td>\n      <td>brown</td>\n      <td>...</td>\n      <td>smooth</td>\n      <td>white</td>\n      <td>white</td>\n      <td>partial</td>\n      <td>white</td>\n      <td>one</td>\n      <td>pendant</td>\n      <td>brown</td>\n      <td>numerous</td>\n      <td>meadows</td>\n    </tr>\n    <tr>\n      <th>2</th>\n      <td>p</td>\n      <td>convex</td>\n      <td>scaly</td>\n      <td>white</td>\n      <td>bruises</td>\n      <td>pungent</td>\n      <td>free</td>\n      <td>close</td>\n      <td>narrow</td>\n      <td>brown</td>\n      <td>...</td>\n      <td>smooth</td>\n      <td>white</td>\n      <td>white</td>\n      <td>partial</td>\n      <td>white</td>\n      <td>one</td>\n      <td>pendant</td>\n      <td>black</td>\n      <td>scattered</td>\n      <td>urban</td>\n    </tr>\n    <tr>\n      <th>3</th>\n      <td>e</td>\n      <td>convex</td>\n      <td>smooth</td>\n      <td>gray</td>\n      <td>no</td>\n      <td>none</td>\n      <td>free</td>\n      <td>crowded</td>\n      <td>broad</td>\n      <td>black</td>\n      <td>...</td>\n      <td>smooth</td>\n      <td>white</td>\n      <td>white</td>\n      <td>partial</td>\n      <td>white</td>\n      <td>one</td>\n      <td>evanescent</td>\n      <td>brown</td>\n      <td>abundant</td>\n      <td>grasses</td>\n    </tr>\n    <tr>\n      <th>4</th>\n      <td>e</td>\n      <td>convex</td>\n      <td>scaly</td>\n      <td>yellow</td>\n      <td>bruises</td>\n      <td>almond</td>\n      <td>free</td>\n      <td>close</td>\n      <td>broad</td>\n      <td>brown</td>\n      <td>...</td>\n      <td>smooth</td>\n      <td>white</td>\n      <td>white</td>\n      <td>partial</td>\n      <td>white</td>\n      <td>one</td>\n      <td>pendant</td>\n      <td>black</td>\n      <td>numerous</td>\n      <td>grasses</td>\n    </tr>\n  </tbody>\n</table>\n<p>5 rows × 23 columns</p>\n</div>"
     },
     "execution_count": 28,
     "metadata": {},
     "output_type": "execute_result"
    }
   ],
   "source": [
    "df = df_mapped\n",
    "df.head()"
   ],
   "metadata": {
    "collapsed": false,
    "ExecuteTime": {
     "end_time": "2024-03-03T03:32:43.404500Z",
     "start_time": "2024-03-03T03:32:43.393509Z"
    }
   },
   "id": "4330476873e68abc"
  },
  {
   "cell_type": "markdown",
   "source": [
    "**Generate Countplots to View Data correlations**"
   ],
   "metadata": {
    "collapsed": false
   },
   "id": "4b39152bf74f5896"
  },
  {
   "cell_type": "code",
   "execution_count": 43,
   "outputs": [],
   "source": [
    "categorical_cols = [col for col in df_mapped.columns if df_mapped[col].dtype == 'object']\n",
    "\n",
    "# Loop through the categorical features\n",
    "for col in categorical_cols:\n",
    "    sns.countplot(x = col, hue=\"class\", data=df_mapped) \n",
    "    plt.title(f\"Distribution of {col} by Class\")\n",
    "    plt.show()"
   ],
   "metadata": {
    "collapsed": false,
    "ExecuteTime": {
     "end_time": "2024-03-03T04:18:06.710931Z",
     "start_time": "2024-03-03T04:18:06.708703Z"
    }
   },
   "id": "b98884e8044d897b"
  },
  {
   "cell_type": "markdown",
   "source": [
    "**One-hot Encoding**"
   ],
   "metadata": {
    "collapsed": false
   },
   "id": "b19d2ac2f598126d"
  },
  {
   "cell_type": "code",
   "execution_count": 35,
   "outputs": [
    {
     "data": {
      "text/plain": "   class  cap-shape_bell  cap-shape_conical  cap-shape_convex  cap-shape_flat  \\\n0    1.0             0.0                0.0               1.0             0.0   \n1    1.0             1.0                0.0               0.0             0.0   \n2    0.0             0.0                0.0               1.0             0.0   \n3    1.0             0.0                0.0               1.0             0.0   \n4    1.0             0.0                0.0               1.0             0.0   \n\n   cap-shape_knobbed  cap-shape_sunken  cap-surface_fibrous  \\\n0                0.0               0.0                  0.0   \n1                0.0               0.0                  0.0   \n2                0.0               0.0                  0.0   \n3                0.0               0.0                  0.0   \n4                0.0               0.0                  0.0   \n\n   cap-surface_grooves  cap-surface_scaly  ...  population_scattered  \\\n0                  0.0                0.0  ...                   0.0   \n1                  0.0                0.0  ...                   0.0   \n2                  0.0                1.0  ...                   1.0   \n3                  0.0                0.0  ...                   0.0   \n4                  0.0                1.0  ...                   0.0   \n\n   population_several  population_solitary  habitat_grasses  habitat_leaves  \\\n0                 0.0                  0.0              1.0             0.0   \n1                 0.0                  0.0              0.0             0.0   \n2                 0.0                  0.0              0.0             0.0   \n3                 0.0                  0.0              1.0             0.0   \n4                 0.0                  0.0              1.0             0.0   \n\n   habitat_meadows  habitat_paths  habitat_urban  habitat_waste  habitat_woods  \n0              0.0            0.0            0.0            0.0            0.0  \n1              1.0            0.0            0.0            0.0            0.0  \n2              0.0            0.0            1.0            0.0            0.0  \n3              0.0            0.0            0.0            0.0            0.0  \n4              0.0            0.0            0.0            0.0            0.0  \n\n[5 rows x 118 columns]",
      "text/html": "<div>\n<style scoped>\n    .dataframe tbody tr th:only-of-type {\n        vertical-align: middle;\n    }\n\n    .dataframe tbody tr th {\n        vertical-align: top;\n    }\n\n    .dataframe thead th {\n        text-align: right;\n    }\n</style>\n<table border=\"1\" class=\"dataframe\">\n  <thead>\n    <tr style=\"text-align: right;\">\n      <th></th>\n      <th>class</th>\n      <th>cap-shape_bell</th>\n      <th>cap-shape_conical</th>\n      <th>cap-shape_convex</th>\n      <th>cap-shape_flat</th>\n      <th>cap-shape_knobbed</th>\n      <th>cap-shape_sunken</th>\n      <th>cap-surface_fibrous</th>\n      <th>cap-surface_grooves</th>\n      <th>cap-surface_scaly</th>\n      <th>...</th>\n      <th>population_scattered</th>\n      <th>population_several</th>\n      <th>population_solitary</th>\n      <th>habitat_grasses</th>\n      <th>habitat_leaves</th>\n      <th>habitat_meadows</th>\n      <th>habitat_paths</th>\n      <th>habitat_urban</th>\n      <th>habitat_waste</th>\n      <th>habitat_woods</th>\n    </tr>\n  </thead>\n  <tbody>\n    <tr>\n      <th>0</th>\n      <td>1.0</td>\n      <td>0.0</td>\n      <td>0.0</td>\n      <td>1.0</td>\n      <td>0.0</td>\n      <td>0.0</td>\n      <td>0.0</td>\n      <td>0.0</td>\n      <td>0.0</td>\n      <td>0.0</td>\n      <td>...</td>\n      <td>0.0</td>\n      <td>0.0</td>\n      <td>0.0</td>\n      <td>1.0</td>\n      <td>0.0</td>\n      <td>0.0</td>\n      <td>0.0</td>\n      <td>0.0</td>\n      <td>0.0</td>\n      <td>0.0</td>\n    </tr>\n    <tr>\n      <th>1</th>\n      <td>1.0</td>\n      <td>1.0</td>\n      <td>0.0</td>\n      <td>0.0</td>\n      <td>0.0</td>\n      <td>0.0</td>\n      <td>0.0</td>\n      <td>0.0</td>\n      <td>0.0</td>\n      <td>0.0</td>\n      <td>...</td>\n      <td>0.0</td>\n      <td>0.0</td>\n      <td>0.0</td>\n      <td>0.0</td>\n      <td>0.0</td>\n      <td>1.0</td>\n      <td>0.0</td>\n      <td>0.0</td>\n      <td>0.0</td>\n      <td>0.0</td>\n    </tr>\n    <tr>\n      <th>2</th>\n      <td>0.0</td>\n      <td>0.0</td>\n      <td>0.0</td>\n      <td>1.0</td>\n      <td>0.0</td>\n      <td>0.0</td>\n      <td>0.0</td>\n      <td>0.0</td>\n      <td>0.0</td>\n      <td>1.0</td>\n      <td>...</td>\n      <td>1.0</td>\n      <td>0.0</td>\n      <td>0.0</td>\n      <td>0.0</td>\n      <td>0.0</td>\n      <td>0.0</td>\n      <td>0.0</td>\n      <td>1.0</td>\n      <td>0.0</td>\n      <td>0.0</td>\n    </tr>\n    <tr>\n      <th>3</th>\n      <td>1.0</td>\n      <td>0.0</td>\n      <td>0.0</td>\n      <td>1.0</td>\n      <td>0.0</td>\n      <td>0.0</td>\n      <td>0.0</td>\n      <td>0.0</td>\n      <td>0.0</td>\n      <td>0.0</td>\n      <td>...</td>\n      <td>0.0</td>\n      <td>0.0</td>\n      <td>0.0</td>\n      <td>1.0</td>\n      <td>0.0</td>\n      <td>0.0</td>\n      <td>0.0</td>\n      <td>0.0</td>\n      <td>0.0</td>\n      <td>0.0</td>\n    </tr>\n    <tr>\n      <th>4</th>\n      <td>1.0</td>\n      <td>0.0</td>\n      <td>0.0</td>\n      <td>1.0</td>\n      <td>0.0</td>\n      <td>0.0</td>\n      <td>0.0</td>\n      <td>0.0</td>\n      <td>0.0</td>\n      <td>1.0</td>\n      <td>...</td>\n      <td>0.0</td>\n      <td>0.0</td>\n      <td>0.0</td>\n      <td>1.0</td>\n      <td>0.0</td>\n      <td>0.0</td>\n      <td>0.0</td>\n      <td>0.0</td>\n      <td>0.0</td>\n      <td>0.0</td>\n    </tr>\n  </tbody>\n</table>\n<p>5 rows × 118 columns</p>\n</div>"
     },
     "execution_count": 35,
     "metadata": {},
     "output_type": "execute_result"
    }
   ],
   "source": [
    "y = df_mapped['class'].map({'e': 1.0, 'p': 0.0})\n",
    "\n",
    "# Drop the 'class' column \n",
    "X = df_mapped.drop(['class'], axis=1)\n",
    "# Initialize\n",
    "encoder = OneHotEncoder(sparse_output=False, handle_unknown='ignore')\n",
    "X_encoded = encoder.fit_transform(X)\n",
    "feature_names = encoder.get_feature_names_out(X.columns)\n",
    "X_encoded_df = pd.DataFrame(X_encoded, columns=feature_names)\n",
    "\n",
    "y_df = pd.DataFrame(y).reset_index(drop=True)\n",
    "\n",
    "df_encoded = pd.concat([y_df, X_encoded_df], axis=1)\n",
    "\n",
    "df_encoded.head()"
   ],
   "metadata": {
    "collapsed": false,
    "ExecuteTime": {
     "end_time": "2024-03-03T03:39:57.443593Z",
     "start_time": "2024-03-03T03:39:57.396019Z"
    }
   },
   "id": "b843da0c400795da"
  },
  {
   "cell_type": "markdown",
   "source": [
    "**Split dataset - in order to prevent data leakage**"
   ],
   "metadata": {
    "collapsed": false
   },
   "id": "b775481f1424f535"
  },
  {
   "cell_type": "code",
   "execution_count": 36,
   "outputs": [],
   "source": [
    "X_train, X_test, y_train, y_test = train_test_split(df_encoded, y, test_size=0.2, random_state=42)"
   ],
   "metadata": {
    "collapsed": false,
    "ExecuteTime": {
     "end_time": "2024-03-03T03:42:01.330319Z",
     "start_time": "2024-03-03T03:42:01.272326Z"
    }
   },
   "id": "f08e0358af1bd98"
  },
  {
   "cell_type": "markdown",
   "source": [
    "**Logistic Regression Testing**"
   ],
   "metadata": {
    "collapsed": false
   },
   "id": "d1195bbcbe0b8228"
  },
  {
   "cell_type": "code",
   "execution_count": 40,
   "outputs": [
    {
     "name": "stdout",
     "output_type": "stream",
     "text": [
      "Accuracy: 1.0\n",
      "Classification Report:\n",
      "               precision    recall  f1-score   support\n",
      "\n",
      "         0.0       1.00      1.00      1.00       772\n",
      "         1.0       1.00      1.00      1.00       853\n",
      "\n",
      "    accuracy                           1.00      1625\n",
      "   macro avg       1.00      1.00      1.00      1625\n",
      "weighted avg       1.00      1.00      1.00      1625\n",
      "\n",
      "Confusion Matrix:\n",
      " [[772   0]\n",
      " [  0 853]]\n"
     ]
    }
   ],
   "source": [
    "log_reg = LogisticRegression(max_iter=10000)\n",
    "log_reg.fit(X_train, y_train)\n",
    "y_pred = log_reg.predict(X_test)\n",
    "accuracy = accuracy_score(y_test, y_pred)\n",
    "print(f\"Accuracy: {accuracy}\")\n",
    "\n",
    "class_report = classification_report(y_test, y_pred)\n",
    "print(\"Classification Report:\\n\", class_report)\n",
    "\n",
    "conf_matrix = confusion_matrix(y_test, y_pred)\n",
    "print(\"Confusion Matrix:\\n\", conf_matrix)"
   ],
   "metadata": {
    "collapsed": false,
    "ExecuteTime": {
     "end_time": "2024-03-03T04:00:38.799861Z",
     "start_time": "2024-03-03T04:00:38.702319Z"
    }
   },
   "id": "3aef4a6dc3969bef"
  },
  {
   "cell_type": "markdown",
   "source": [
    "**ANN Testing**"
   ],
   "metadata": {
    "collapsed": false
   },
   "id": "ef7e509e601953a5"
  },
  {
   "cell_type": "code",
   "execution_count": 42,
   "outputs": [
    {
     "name": "stdout",
     "output_type": "stream",
     "text": [
      "Epoch 1/10\n",
      "204/204 [==============================] - 1s 699us/step - loss: 0.1969 - accuracy: 0.9087 - val_loss: 0.0111 - val_accuracy: 1.0000\n",
      "Epoch 2/10\n",
      "204/204 [==============================] - 0s 398us/step - loss: 0.0044 - accuracy: 1.0000 - val_loss: 0.0021 - val_accuracy: 1.0000\n",
      "Epoch 3/10\n",
      "204/204 [==============================] - 0s 401us/step - loss: 0.0012 - accuracy: 1.0000 - val_loss: 7.7439e-04 - val_accuracy: 1.0000\n",
      "Epoch 4/10\n",
      "204/204 [==============================] - 0s 387us/step - loss: 5.7791e-04 - accuracy: 1.0000 - val_loss: 4.3588e-04 - val_accuracy: 1.0000\n",
      "Epoch 5/10\n",
      "204/204 [==============================] - 0s 399us/step - loss: 3.3558e-04 - accuracy: 1.0000 - val_loss: 2.6610e-04 - val_accuracy: 1.0000\n",
      "Epoch 6/10\n",
      "204/204 [==============================] - 0s 382us/step - loss: 2.1522e-04 - accuracy: 1.0000 - val_loss: 1.8042e-04 - val_accuracy: 1.0000\n",
      "Epoch 7/10\n",
      "204/204 [==============================] - 0s 400us/step - loss: 1.5020e-04 - accuracy: 1.0000 - val_loss: 1.2684e-04 - val_accuracy: 1.0000\n",
      "Epoch 8/10\n",
      "204/204 [==============================] - 0s 385us/step - loss: 1.0823e-04 - accuracy: 1.0000 - val_loss: 9.3907e-05 - val_accuracy: 1.0000\n",
      "Epoch 9/10\n",
      "204/204 [==============================] - 0s 381us/step - loss: 7.8330e-05 - accuracy: 1.0000 - val_loss: 6.1228e-05 - val_accuracy: 1.0000\n",
      "Epoch 10/10\n",
      "204/204 [==============================] - 0s 400us/step - loss: 4.5028e-05 - accuracy: 1.0000 - val_loss: 3.4587e-05 - val_accuracy: 1.0000\n",
      "51/51 [==============================] - 0s 227us/step\n",
      "Accuracy: 1.0\n",
      "Classification Report:\n",
      "               precision    recall  f1-score   support\n",
      "\n",
      "         0.0       1.00      1.00      1.00       772\n",
      "         1.0       1.00      1.00      1.00       853\n",
      "\n",
      "    accuracy                           1.00      1625\n",
      "   macro avg       1.00      1.00      1.00      1625\n",
      "weighted avg       1.00      1.00      1.00      1625\n",
      "\n",
      "Confusion Matrix:\n",
      " [[772   0]\n",
      " [  0 853]]\n"
     ]
    }
   ],
   "source": [
    "model = Sequential()\n",
    "model.add(Dense(32, activation='relu', input_shape=(X_train.shape[1],)))  # Input layer \n",
    "model.add(Dense(16, activation='relu'))  # Hidden layer\n",
    "model.add(Dense(1, activation='sigmoid'))  # Output layer (single neuron for binary classification)\n",
    "\n",
    "optimizer = Adam(learning_rate=0.001) # Adjust the learning rate as needed\n",
    "model.compile(loss='binary_crossentropy', optimizer=optimizer, metrics=['accuracy'])\n",
    "\n",
    "model.fit(X_train, y_train, epochs=10, batch_size=32, validation_data=(X_test, y_test))\n",
    "\n",
    "y_pred = model.predict(X_test)\n",
    "y_pred = (y_pred > 0.5)  # Convert probabilities to class labels\n",
    "\n",
    "accuracy = accuracy_score(y_test, y_pred)\n",
    "print(f\"Accuracy: {accuracy}\")\n",
    "\n",
    "class_report = classification_report(y_test, y_pred)\n",
    "print(\"Classification Report:\\n\", class_report)\n",
    "\n",
    "conf_matrix = confusion_matrix(y_test, y_pred)\n",
    "print(\"Confusion Matrix:\\n\", conf_matrix)"
   ],
   "metadata": {
    "collapsed": false,
    "ExecuteTime": {
     "end_time": "2024-03-03T04:03:03.624349Z",
     "start_time": "2024-03-03T04:03:01.671622Z"
    }
   },
   "id": "bea7f8a57b1d0cb4"
  },
  {
   "cell_type": "markdown",
   "source": [
    "**PCA + K-Fold Cross Validation**"
   ],
   "metadata": {
    "collapsed": false
   },
   "id": "51d1719b3be0b888"
  },
  {
   "cell_type": "code",
   "execution_count": null,
   "outputs": [],
   "source": [
    "X_train_cv, X_test, y_train_cv, y_test = train_test_split(df_encoded, y, test_size=0.2, random_state=42)\n",
    "\n",
    "kf = KFold(n_splits=5, shuffle=True, random_state=42)  # 5-fold cross-validation\n",
    "accuracies = []  # Store accuracies for each fold\n",
    "\n",
    "for train_index, val_index in kf.split(X_train_cv):\n",
    "    X_train_fold, X_val_fold = X_train_cv.iloc[train_index], X_train_cv.iloc[val_index]\n",
    "    y_train_fold, y_val_fold = y_train_cv.iloc[train_index], y_train_cv.iloc[val_index]\n",
    "\n",
    "    # Fit PCA on the current training fold\n",
    "    pca = PCA(n_components=0.95)  # Keep 95% of explained variance\n",
    "    X_train_fold_pca = pca.fit_transform(X_train_fold) \n",
    "    X_val_fold_pca = pca.transform(X_val_fold)\n",
    "\n",
    "    # Train logistic regression\n",
    "    log_reg = LogisticRegression(max_iter=10000)\n",
    "    log_reg.fit(X_train_fold_pca, y_train_fold)\n",
    "\n",
    "    # Evaluation on the validation fold\n",
    "    y_pred = log_reg.predict(X_val_fold_pca)\n",
    "    accuracy = accuracy_score(y_val_fold, y_pred)\n",
    "    accuracies.append(accuracy)\n",
    "\n",
    "# Average accuracy across folds\n",
    "avg_accuracy = np.mean(accuracies)\n",
    "print(f\"Average cross-validation accuracy: {avg_accuracy}\")\n",
    "\n"
   ],
   "metadata": {
    "collapsed": false
   },
   "id": "1858dcc055fcc5e3"
  }
 ],
 "metadata": {
  "kernelspec": {
   "display_name": "Python 3",
   "language": "python",
   "name": "python3"
  },
  "language_info": {
   "codemirror_mode": {
    "name": "ipython",
    "version": 2
   },
   "file_extension": ".py",
   "mimetype": "text/x-python",
   "name": "python",
   "nbconvert_exporter": "python",
   "pygments_lexer": "ipython2",
   "version": "2.7.6"
  }
 },
 "nbformat": 4,
 "nbformat_minor": 5
}
