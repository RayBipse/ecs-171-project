{
 "cells": [
  {
   "cell_type": "code",
   "execution_count": 17,
   "id": "initial_id",
   "metadata": {
    "collapsed": true,
    "ExecuteTime": {
     "end_time": "2024-03-11T04:14:50.793217Z",
     "start_time": "2024-03-11T04:14:50.508723Z"
    }
   },
   "outputs": [],
   "source": [
    "import nbimporter\n",
    "import pandas as pd\n",
    "import numpy as np\n",
    "from ucimlrepo import fetch_ucirepo, list_available_datasets\n",
    "from keras.models import Sequential\n",
    "from tensorflow.keras.optimizers.legacy import Adam\n",
    "from keras.layers import Dense\n",
    "from sklearn.model_selection import train_test_split\n",
    "import matplotlib.pyplot as plt\n",
    "from sklearn.decomposition import PCA, KernelPCA\n",
    "import seaborn as sns\n",
    "import random\n",
    "import scipy.stats as stats\n",
    "from sklearn.preprocessing import OneHotEncoder, StandardScaler, RobustScaler\n",
    "from sklearn.ensemble import RandomForestClassifier\n",
    "from sklearn.model_selection import train_test_split, KFold\n",
    "from sklearn.linear_model import LogisticRegression\n",
    "from sklearn.model_selection import train_test_split\n",
    "from sklearn.metrics import accuracy_score, classification_report, confusion_matrix\n",
    "\n",
    "\n",
    "\n",
    "\n",
    "\n",
    "\n",
    "\n",
    "\n",
    "\n",
    "\n",
    "\n",
    "\n",
    "import pandas as pd\n",
    "import numpy as np\n",
    "from sklearn.neural_network import MLPClassifier\n",
    "from keras.models import Sequential\n",
    "from sklearn.metrics import make_scorer\n",
    "from sklearn.metrics import accuracy_score, precision_score, recall_score\n",
    "from tensorflow.keras.optimizers.legacy import Adam\n",
    "from keras.wrappers.scikit_learn import KerasRegressor\n",
    "from keras.layers import Dense\n",
    "import matplotlib.pyplot as plt\n",
    "from sklearn.decomposition import PCA, KernelPCA\n",
    "import warnings\n",
    "import seaborn as sns\n",
    "import scipy.stats as stats\n",
    "from sklearn.preprocessing import OneHotEncoder, StandardScaler, RobustScaler\n",
    "from sklearn.ensemble import RandomForestClassifier\n",
    "from sklearn.model_selection import train_test_split, GridSearchCV, KFold\n",
    "from sklearn.pipeline import Pipeline\n",
    "from sklearn.linear_model import LogisticRegression\n",
    "from sklearn.model_selection import train_test_split\n",
    "from sklearn.naive_bayes import GaussianNB, CategoricalNB\n",
    "from sklearn.model_selection import KFold\n",
    "from sklearn.metrics import mean_squared_error, accuracy_score, classification_report, confusion_matrix \n",
    "import warnings"
   ]
  },
  {
   "cell_type": "markdown",
   "id": "bff951f999419686",
   "metadata": {
    "collapsed": false
   },
   "source": [
    "**Get Data**"
   ]
  },
  {
   "cell_type": "code",
   "execution_count": 34,
   "id": "265193a24e455657",
   "metadata": {
    "collapsed": false,
    "ExecuteTime": {
     "end_time": "2024-03-11T04:19:59.138905Z",
     "start_time": "2024-03-11T04:19:58.550741Z"
    }
   },
   "outputs": [],
   "source": [
    "df = pd.read_csv(\"../mushroom/agaricus-lepiota.data\")\n",
    "mushroom = fetch_ucirepo(id=73)"
   ]
  },
  {
   "cell_type": "markdown",
   "id": "7ec025ff56001006",
   "metadata": {
    "collapsed": false
   },
   "source": [
    "**Generate Usable/Mapped Dataset**"
   ]
  },
  {
   "cell_type": "code",
   "execution_count": 35,
   "id": "3d0108c297691a38",
   "metadata": {
    "collapsed": false,
    "ExecuteTime": {
     "end_time": "2024-03-11T04:20:00.811245Z",
     "start_time": "2024-03-11T04:20:00.708918Z"
    }
   },
   "outputs": [
    {
     "data": {
      "text/plain": "  class cap-shape cap-surface cap-color  bruises     odor gill-attachment  \\\n0     e    convex      smooth    yellow  bruises   almond            free   \n1     e      bell      smooth     white  bruises    anise            free   \n2     p    convex       scaly     white  bruises  pungent            free   \n3     e    convex      smooth      gray       no     none            free   \n4     e    convex       scaly    yellow  bruises   almond            free   \n\n  gill-spacing gill-size gill-color  ... stalk-surface-below-ring  \\\n0        close     broad      black  ...                   smooth   \n1        close     broad      brown  ...                   smooth   \n2        close    narrow      brown  ...                   smooth   \n3      crowded     broad      black  ...                   smooth   \n4        close     broad      brown  ...                   smooth   \n\n  stalk-color-above-ring stalk-color-below-ring veil-type veil-color  \\\n0                  white                  white   partial      white   \n1                  white                  white   partial      white   \n2                  white                  white   partial      white   \n3                  white                  white   partial      white   \n4                  white                  white   partial      white   \n\n  ring-number   ring-type spore-print-color population  habitat  \n0         one     pendant             brown   numerous  grasses  \n1         one     pendant             brown   numerous  meadows  \n2         one     pendant             black  scattered    urban  \n3         one  evanescent             brown   abundant  grasses  \n4         one     pendant             black   numerous  grasses  \n\n[5 rows x 23 columns]",
      "text/html": "<div>\n<style scoped>\n    .dataframe tbody tr th:only-of-type {\n        vertical-align: middle;\n    }\n\n    .dataframe tbody tr th {\n        vertical-align: top;\n    }\n\n    .dataframe thead th {\n        text-align: right;\n    }\n</style>\n<table border=\"1\" class=\"dataframe\">\n  <thead>\n    <tr style=\"text-align: right;\">\n      <th></th>\n      <th>class</th>\n      <th>cap-shape</th>\n      <th>cap-surface</th>\n      <th>cap-color</th>\n      <th>bruises</th>\n      <th>odor</th>\n      <th>gill-attachment</th>\n      <th>gill-spacing</th>\n      <th>gill-size</th>\n      <th>gill-color</th>\n      <th>...</th>\n      <th>stalk-surface-below-ring</th>\n      <th>stalk-color-above-ring</th>\n      <th>stalk-color-below-ring</th>\n      <th>veil-type</th>\n      <th>veil-color</th>\n      <th>ring-number</th>\n      <th>ring-type</th>\n      <th>spore-print-color</th>\n      <th>population</th>\n      <th>habitat</th>\n    </tr>\n  </thead>\n  <tbody>\n    <tr>\n      <th>0</th>\n      <td>e</td>\n      <td>convex</td>\n      <td>smooth</td>\n      <td>yellow</td>\n      <td>bruises</td>\n      <td>almond</td>\n      <td>free</td>\n      <td>close</td>\n      <td>broad</td>\n      <td>black</td>\n      <td>...</td>\n      <td>smooth</td>\n      <td>white</td>\n      <td>white</td>\n      <td>partial</td>\n      <td>white</td>\n      <td>one</td>\n      <td>pendant</td>\n      <td>brown</td>\n      <td>numerous</td>\n      <td>grasses</td>\n    </tr>\n    <tr>\n      <th>1</th>\n      <td>e</td>\n      <td>bell</td>\n      <td>smooth</td>\n      <td>white</td>\n      <td>bruises</td>\n      <td>anise</td>\n      <td>free</td>\n      <td>close</td>\n      <td>broad</td>\n      <td>brown</td>\n      <td>...</td>\n      <td>smooth</td>\n      <td>white</td>\n      <td>white</td>\n      <td>partial</td>\n      <td>white</td>\n      <td>one</td>\n      <td>pendant</td>\n      <td>brown</td>\n      <td>numerous</td>\n      <td>meadows</td>\n    </tr>\n    <tr>\n      <th>2</th>\n      <td>p</td>\n      <td>convex</td>\n      <td>scaly</td>\n      <td>white</td>\n      <td>bruises</td>\n      <td>pungent</td>\n      <td>free</td>\n      <td>close</td>\n      <td>narrow</td>\n      <td>brown</td>\n      <td>...</td>\n      <td>smooth</td>\n      <td>white</td>\n      <td>white</td>\n      <td>partial</td>\n      <td>white</td>\n      <td>one</td>\n      <td>pendant</td>\n      <td>black</td>\n      <td>scattered</td>\n      <td>urban</td>\n    </tr>\n    <tr>\n      <th>3</th>\n      <td>e</td>\n      <td>convex</td>\n      <td>smooth</td>\n      <td>gray</td>\n      <td>no</td>\n      <td>none</td>\n      <td>free</td>\n      <td>crowded</td>\n      <td>broad</td>\n      <td>black</td>\n      <td>...</td>\n      <td>smooth</td>\n      <td>white</td>\n      <td>white</td>\n      <td>partial</td>\n      <td>white</td>\n      <td>one</td>\n      <td>evanescent</td>\n      <td>brown</td>\n      <td>abundant</td>\n      <td>grasses</td>\n    </tr>\n    <tr>\n      <th>4</th>\n      <td>e</td>\n      <td>convex</td>\n      <td>scaly</td>\n      <td>yellow</td>\n      <td>bruises</td>\n      <td>almond</td>\n      <td>free</td>\n      <td>close</td>\n      <td>broad</td>\n      <td>brown</td>\n      <td>...</td>\n      <td>smooth</td>\n      <td>white</td>\n      <td>white</td>\n      <td>partial</td>\n      <td>white</td>\n      <td>one</td>\n      <td>pendant</td>\n      <td>black</td>\n      <td>numerous</td>\n      <td>grasses</td>\n    </tr>\n  </tbody>\n</table>\n<p>5 rows × 23 columns</p>\n</div>"
     },
     "execution_count": 35,
     "metadata": {},
     "output_type": "execute_result"
    }
   ],
   "source": [
    "mappings = {\n",
    "    'cap-shape': {'b': 'bell', 'c': 'conical', 'x': 'convex', 'f': 'flat', 'k': 'knobbed', 's': 'sunken'},\n",
    "    'cap-surface': {'f': 'fibrous', 'g': 'grooves', 'y': 'scaly', 's': 'smooth'},\n",
    "    'cap-color': {'n': 'brown', 'b': 'buff', 'c': 'cinnamon', 'g': 'gray', 'r': 'green', 'p': 'pink', 'u': 'purple', 'e': 'red', 'w': 'white', 'y': 'yellow'},\n",
    "    'bruises': {'t': 'bruises', 'f': 'no'},\n",
    "    'odor': {'a': 'almond', 'l': 'anise', 'c': 'creosote', 'y': 'fishy', 'f': 'foul', 'm': 'musty', 'n': 'none', 'p': 'pungent', 's': 'spicy'},\n",
    "    'gill-attachment': {'a': 'attached', 'd': 'descending', 'f': 'free', 'n': 'notched'},\n",
    "    'gill-spacing': {'c': 'close', 'w': 'crowded', 'd': 'distant'},\n",
    "    'gill-size': {'b': 'broad', 'n': 'narrow'},\n",
    "    'gill-color': {'k': 'black', 'n': 'brown', 'b': 'buff', 'h': 'chocolate', 'g': 'gray', 'r': 'green', 'o': 'orange', 'p': 'pink', 'u': 'purple', 'e': 'red', 'w': 'white', 'y': 'yellow'},\n",
    "    'stalk-shape': {'e': 'enlarging', 't': 'tapering'},\n",
    "    'stalk-root': {'b': 'bulbous', 'c': 'club', 'u': 'cup', 'e': 'equal', 'z': 'rhizomorphs', 'r': 'rooted', '?': 'missing'},\n",
    "    'stalk-surface-above-ring': {'f': 'fibrous', 'y': 'scaly', 'k': 'silky', 's': 'smooth'},\n",
    "    'stalk-surface-below-ring': {'f': 'fibrous', 'y': 'scaly', 'k': 'silky', 's': 'smooth'},\n",
    "    'stalk-color-above-ring': {'n': 'brown', 'b': 'buff', 'c': 'cinnamon', 'g': 'gray', 'o': 'orange', 'p': 'pink', 'e': 'red', 'w': 'white', 'y': 'yellow'},\n",
    "    'stalk-color-below-ring': {'n': 'brown', 'b': 'buff', 'c': 'cinnamon', 'g': 'gray', 'o': 'orange', 'p': 'pink', 'e': 'red', 'w': 'white', 'y': 'yellow'},\n",
    "    'veil-type': {'p': 'partial', 'u': 'universal'},\n",
    "    'veil-color': {'n': 'brown', 'o': 'orange', 'w': 'white', 'y': 'yellow'},\n",
    "    'ring-number': {'n': 'none', 'o': 'one', 't': 'two'},\n",
    "    'ring-type': {'c': 'cobwebby', 'e': 'evanescent', 'f': 'flaring', 'l': 'large', 'n': 'none', 'p': 'pendant', 's': 'sheathing', 'z': 'zone'},\n",
    "    'spore-print-color': {'k': 'black', 'n': 'brown', 'b': 'buff', 'h': 'chocolate', 'r': 'green', 'o': 'orange', 'u': 'purple', 'w': 'white', 'y': 'yellow'},\n",
    "    'population': {'a': 'abundant', 'c': 'clustered', 'n': 'numerous', 's': 'scattered', 'v': 'several', 'y': 'solitary'},\n",
    "    'habitat': {'g': 'grasses', 'l': 'leaves', 'm': 'meadows', 'p': 'paths', 'u': 'urban', 'w': 'waste', 'd': 'woods'}\n",
    "}\n",
    "\n",
    "df.columns = ['class', 'cap-shape', 'cap-surface', 'cap-color', 'bruises', 'odor', 'gill-attachment', 'gill-spacing', 'gill-size', 'gill-color', 'stalk-shape', 'stalk-root', 'stalk-surface-above-ring',  'stalk-surface-below-ring', 'stalk-color-above-ring', 'stalk-color-below-ring', 'veil-type', 'veil-color', 'ring-number',  'ring-type',  'spore-print-color', 'population',  'habitat']\n",
    "\n",
    "#apply mappings to the dataframe\n",
    "def map_features(df, mappings):\n",
    "    for column in df.columns:\n",
    "        if column in mappings:\n",
    "            df[column] = df[column].map(mappings[column]).fillna(df[column])\n",
    "    return df\n",
    "\n",
    "# Apply the mappings to the dataframe\n",
    "df_mapped = map_features(df, mappings)\n",
    "df_mapped.head()"
   ]
  },
  {
   "cell_type": "code",
   "execution_count": 36,
   "id": "4330476873e68abc",
   "metadata": {
    "collapsed": false,
    "ExecuteTime": {
     "end_time": "2024-03-11T04:20:38.158121Z",
     "start_time": "2024-03-11T04:20:38.116713Z"
    }
   },
   "outputs": [
    {
     "data": {
      "text/plain": "  class cap-shape cap-surface cap-color  bruises gill-attachment gill-spacing  \\\n0     e    convex      smooth    yellow  bruises            free        close   \n1     e      bell      smooth     white  bruises            free        close   \n2     p    convex       scaly     white  bruises            free        close   \n3     e    convex      smooth      gray       no            free      crowded   \n4     e    convex       scaly    yellow  bruises            free        close   \n\n  gill-size gill-color stalk-shape stalk-root stalk-surface-above-ring  \\\n0     broad      black   enlarging       club                   smooth   \n1     broad      brown   enlarging       club                   smooth   \n2    narrow      brown   enlarging      equal                   smooth   \n3     broad      black    tapering      equal                   smooth   \n4     broad      brown   enlarging       club                   smooth   \n\n  stalk-surface-below-ring stalk-color-above-ring stalk-color-below-ring  \\\n0                   smooth                  white                  white   \n1                   smooth                  white                  white   \n2                   smooth                  white                  white   \n3                   smooth                  white                  white   \n4                   smooth                  white                  white   \n\n  veil-color ring-number   ring-type population  habitat  \n0      white         one     pendant   numerous  grasses  \n1      white         one     pendant   numerous  meadows  \n2      white         one     pendant  scattered    urban  \n3      white         one  evanescent   abundant  grasses  \n4      white         one     pendant   numerous  grasses  ",
      "text/html": "<div>\n<style scoped>\n    .dataframe tbody tr th:only-of-type {\n        vertical-align: middle;\n    }\n\n    .dataframe tbody tr th {\n        vertical-align: top;\n    }\n\n    .dataframe thead th {\n        text-align: right;\n    }\n</style>\n<table border=\"1\" class=\"dataframe\">\n  <thead>\n    <tr style=\"text-align: right;\">\n      <th></th>\n      <th>class</th>\n      <th>cap-shape</th>\n      <th>cap-surface</th>\n      <th>cap-color</th>\n      <th>bruises</th>\n      <th>gill-attachment</th>\n      <th>gill-spacing</th>\n      <th>gill-size</th>\n      <th>gill-color</th>\n      <th>stalk-shape</th>\n      <th>stalk-root</th>\n      <th>stalk-surface-above-ring</th>\n      <th>stalk-surface-below-ring</th>\n      <th>stalk-color-above-ring</th>\n      <th>stalk-color-below-ring</th>\n      <th>veil-color</th>\n      <th>ring-number</th>\n      <th>ring-type</th>\n      <th>population</th>\n      <th>habitat</th>\n    </tr>\n  </thead>\n  <tbody>\n    <tr>\n      <th>0</th>\n      <td>e</td>\n      <td>convex</td>\n      <td>smooth</td>\n      <td>yellow</td>\n      <td>bruises</td>\n      <td>free</td>\n      <td>close</td>\n      <td>broad</td>\n      <td>black</td>\n      <td>enlarging</td>\n      <td>club</td>\n      <td>smooth</td>\n      <td>smooth</td>\n      <td>white</td>\n      <td>white</td>\n      <td>white</td>\n      <td>one</td>\n      <td>pendant</td>\n      <td>numerous</td>\n      <td>grasses</td>\n    </tr>\n    <tr>\n      <th>1</th>\n      <td>e</td>\n      <td>bell</td>\n      <td>smooth</td>\n      <td>white</td>\n      <td>bruises</td>\n      <td>free</td>\n      <td>close</td>\n      <td>broad</td>\n      <td>brown</td>\n      <td>enlarging</td>\n      <td>club</td>\n      <td>smooth</td>\n      <td>smooth</td>\n      <td>white</td>\n      <td>white</td>\n      <td>white</td>\n      <td>one</td>\n      <td>pendant</td>\n      <td>numerous</td>\n      <td>meadows</td>\n    </tr>\n    <tr>\n      <th>2</th>\n      <td>p</td>\n      <td>convex</td>\n      <td>scaly</td>\n      <td>white</td>\n      <td>bruises</td>\n      <td>free</td>\n      <td>close</td>\n      <td>narrow</td>\n      <td>brown</td>\n      <td>enlarging</td>\n      <td>equal</td>\n      <td>smooth</td>\n      <td>smooth</td>\n      <td>white</td>\n      <td>white</td>\n      <td>white</td>\n      <td>one</td>\n      <td>pendant</td>\n      <td>scattered</td>\n      <td>urban</td>\n    </tr>\n    <tr>\n      <th>3</th>\n      <td>e</td>\n      <td>convex</td>\n      <td>smooth</td>\n      <td>gray</td>\n      <td>no</td>\n      <td>free</td>\n      <td>crowded</td>\n      <td>broad</td>\n      <td>black</td>\n      <td>tapering</td>\n      <td>equal</td>\n      <td>smooth</td>\n      <td>smooth</td>\n      <td>white</td>\n      <td>white</td>\n      <td>white</td>\n      <td>one</td>\n      <td>evanescent</td>\n      <td>abundant</td>\n      <td>grasses</td>\n    </tr>\n    <tr>\n      <th>4</th>\n      <td>e</td>\n      <td>convex</td>\n      <td>scaly</td>\n      <td>yellow</td>\n      <td>bruises</td>\n      <td>free</td>\n      <td>close</td>\n      <td>broad</td>\n      <td>brown</td>\n      <td>enlarging</td>\n      <td>club</td>\n      <td>smooth</td>\n      <td>smooth</td>\n      <td>white</td>\n      <td>white</td>\n      <td>white</td>\n      <td>one</td>\n      <td>pendant</td>\n      <td>numerous</td>\n      <td>grasses</td>\n    </tr>\n  </tbody>\n</table>\n</div>"
     },
     "execution_count": 36,
     "metadata": {},
     "output_type": "execute_result"
    }
   ],
   "source": [
    "columns = ['veil-type', 'odor', 'spore-print-color']\n",
    "df_mapped.drop(columns, inplace=True, axis=1)\n",
    "\n",
    "df_mapped.head()"
   ]
  },
  {
   "cell_type": "markdown",
   "source": [
    "**Check for and remove missing values**"
   ],
   "metadata": {
    "collapsed": false
   },
   "id": "d09e50565c973daf"
  },
  {
   "cell_type": "code",
   "execution_count": 37,
   "outputs": [
    {
     "name": "stdout",
     "output_type": "stream",
     "text": [
      "<class 'pandas.core.frame.DataFrame'>\n",
      "RangeIndex: 8123 entries, 0 to 8122\n",
      "Data columns (total 20 columns):\n",
      " #   Column                    Non-Null Count  Dtype \n",
      "---  ------                    --------------  ----- \n",
      " 0   class                     8123 non-null   object\n",
      " 1   cap-shape                 8123 non-null   object\n",
      " 2   cap-surface               8123 non-null   object\n",
      " 3   cap-color                 8123 non-null   object\n",
      " 4   bruises                   8123 non-null   object\n",
      " 5   gill-attachment           8123 non-null   object\n",
      " 6   gill-spacing              8123 non-null   object\n",
      " 7   gill-size                 8123 non-null   object\n",
      " 8   gill-color                8123 non-null   object\n",
      " 9   stalk-shape               8123 non-null   object\n",
      " 10  stalk-root                8123 non-null   object\n",
      " 11  stalk-surface-above-ring  8123 non-null   object\n",
      " 12  stalk-surface-below-ring  8123 non-null   object\n",
      " 13  stalk-color-above-ring    8123 non-null   object\n",
      " 14  stalk-color-below-ring    8123 non-null   object\n",
      " 15  veil-color                8123 non-null   object\n",
      " 16  ring-number               8123 non-null   object\n",
      " 17  ring-type                 8123 non-null   object\n",
      " 18  population                8123 non-null   object\n",
      " 19  habitat                   8123 non-null   object\n",
      "dtypes: object(20)\n",
      "memory usage: 1.2+ MB\n"
     ]
    }
   ],
   "source": [
    "for column in df_mapped.columns:\n",
    "    if df_mapped[column].isnull().any():\n",
    "        print(f\"Column {column} has missing values\")\n",
    "        df_mapped = df_mapped[df_mapped[column].notnull()]\n",
    "        \n",
    "df_mapped.info()"
   ],
   "metadata": {
    "collapsed": false,
    "ExecuteTime": {
     "end_time": "2024-03-11T04:20:45.553302Z",
     "start_time": "2024-03-11T04:20:45.470144Z"
    }
   },
   "id": "11bd2fafdb15dec6"
  },
  {
   "cell_type": "code",
   "execution_count": 38,
   "outputs": [],
   "source": [
    "df = df_mapped"
   ],
   "metadata": {
    "collapsed": false,
    "ExecuteTime": {
     "end_time": "2024-03-11T04:20:45.854795Z",
     "start_time": "2024-03-11T04:20:45.844257Z"
    }
   },
   "id": "e461b3e2b310bcf4"
  },
  {
   "cell_type": "markdown",
   "source": [
    "**DATA VISUALIZATION**"
   ],
   "metadata": {
    "collapsed": false
   },
   "id": "9a70cae0ecc9d9b1"
  },
  {
   "cell_type": "markdown",
   "source": [
    "Frequency Bar Charts"
   ],
   "metadata": {
    "collapsed": false
   },
   "id": "aca32af3b4513576"
  },
  {
   "cell_type": "code",
   "execution_count": 39,
   "outputs": [],
   "source": [
    "# columns_to_plot = df.columns[:-1]\n",
    "# \n",
    "# # Loop through columns and create bar charts\n",
    "# for col in columns_to_plot:\n",
    "#     df[col].value_counts().plot(kind='bar')\n",
    "#     plt.title(f\"Frequency of {col}\")\n",
    "#     plt.xlabel(col)\n",
    "#     plt.ylabel(\"Count\")\n",
    "#     plt.show()"
   ],
   "metadata": {
    "collapsed": false,
    "ExecuteTime": {
     "end_time": "2024-03-11T04:20:46.736051Z",
     "start_time": "2024-03-11T04:20:46.691698Z"
    }
   },
   "id": "423cfa8d6bed2b8f"
  },
  {
   "cell_type": "markdown",
   "id": "4b39152bf74f5896",
   "metadata": {
    "collapsed": false
   },
   "source": [
    "Generate Countplots to View Data correlations"
   ]
  },
  {
   "cell_type": "code",
   "execution_count": 40,
   "id": "b98884e8044d897b",
   "metadata": {
    "collapsed": false,
    "ExecuteTime": {
     "end_time": "2024-03-11T04:20:47.085211Z",
     "start_time": "2024-03-11T04:20:47.058046Z"
    }
   },
   "outputs": [],
   "source": [
    "# categorical_cols = [col for col in df_mapped.columns if df_mapped[col].dtype == 'object']\n",
    "# \n",
    "# # Loop through the categorical features\n",
    "# for col in categorical_cols:\n",
    "#     sns.countplot(x = col, hue=\"class\", data=df_mapped) \n",
    "#     plt.title(f\"Distribution of {col} by Class\")\n",
    "#     plt.show()"
   ]
  },
  {
   "cell_type": "markdown",
   "source": [
    "Distribution of Target Classes"
   ],
   "metadata": {
    "collapsed": false
   },
   "id": "97de34d6be290862"
  },
  {
   "cell_type": "code",
   "execution_count": 41,
   "outputs": [
    {
     "data": {
      "text/plain": "<Figure size 640x480 with 1 Axes>",
      "image/png": "[encoded data removed]"
     },
     "metadata": {},
     "output_type": "display_data"
    }
   ],
   "source": [
    "df['class'].value_counts().plot(kind='bar')\n",
    "plt.title('Distribution of Target Classes')\n",
    "plt.xlabel('Class')\n",
    "plt.ylabel('Frequency')\n",
    "plt.show()"
   ],
   "metadata": {
    "collapsed": false,
    "ExecuteTime": {
     "end_time": "2024-03-11T04:20:47.629984Z",
     "start_time": "2024-03-11T04:20:47.452517Z"
    }
   },
   "id": "18cdb18a3be02c7e"
  },
  {
   "cell_type": "markdown",
   "id": "b19d2ac2f598126d",
   "metadata": {
    "collapsed": false
   },
   "source": [
    "**One-hot Encoding**"
   ]
  },
  {
   "cell_type": "code",
   "execution_count": 42,
   "id": "b843da0c400795da",
   "metadata": {
    "collapsed": false,
    "ExecuteTime": {
     "end_time": "2024-03-11T04:20:48.534747Z",
     "start_time": "2024-03-11T04:20:48.478929Z"
    }
   },
   "outputs": [
    {
     "data": {
      "text/plain": "   class  cap-shape_bell  cap-shape_conical  cap-shape_convex  cap-shape_flat  \\\n0    1.0             0.0                0.0               1.0             0.0   \n1    1.0             1.0                0.0               0.0             0.0   \n2    0.0             0.0                0.0               1.0             0.0   \n3    1.0             0.0                0.0               1.0             0.0   \n4    1.0             0.0                0.0               1.0             0.0   \n\n   cap-shape_knobbed  cap-shape_sunken  cap-surface_fibrous  \\\n0                0.0               0.0                  0.0   \n1                0.0               0.0                  0.0   \n2                0.0               0.0                  0.0   \n3                0.0               0.0                  0.0   \n4                0.0               0.0                  0.0   \n\n   cap-surface_grooves  cap-surface_scaly  ...  population_scattered  \\\n0                  0.0                0.0  ...                   0.0   \n1                  0.0                0.0  ...                   0.0   \n2                  0.0                1.0  ...                   1.0   \n3                  0.0                0.0  ...                   0.0   \n4                  0.0                1.0  ...                   0.0   \n\n   population_several  population_solitary  habitat_grasses  habitat_leaves  \\\n0                 0.0                  0.0              1.0             0.0   \n1                 0.0                  0.0              0.0             0.0   \n2                 0.0                  0.0              0.0             0.0   \n3                 0.0                  0.0              1.0             0.0   \n4                 0.0                  0.0              1.0             0.0   \n\n   habitat_meadows  habitat_paths  habitat_urban  habitat_waste  habitat_woods  \n0              0.0            0.0            0.0            0.0            0.0  \n1              1.0            0.0            0.0            0.0            0.0  \n2              0.0            0.0            1.0            0.0            0.0  \n3              0.0            0.0            0.0            0.0            0.0  \n4              0.0            0.0            0.0            0.0            0.0  \n\n[5 rows x 99 columns]",
      "text/html": "<div>\n<style scoped>\n    .dataframe tbody tr th:only-of-type {\n        vertical-align: middle;\n    }\n\n    .dataframe tbody tr th {\n        vertical-align: top;\n    }\n\n    .dataframe thead th {\n        text-align: right;\n    }\n</style>\n<table border=\"1\" class=\"dataframe\">\n  <thead>\n    <tr style=\"text-align: right;\">\n      <th></th>\n      <th>class</th>\n      <th>cap-shape_bell</th>\n      <th>cap-shape_conical</th>\n      <th>cap-shape_convex</th>\n      <th>cap-shape_flat</th>\n      <th>cap-shape_knobbed</th>\n      <th>cap-shape_sunken</th>\n      <th>cap-surface_fibrous</th>\n      <th>cap-surface_grooves</th>\n      <th>cap-surface_scaly</th>\n      <th>...</th>\n      <th>population_scattered</th>\n      <th>population_several</th>\n      <th>population_solitary</th>\n      <th>habitat_grasses</th>\n      <th>habitat_leaves</th>\n      <th>habitat_meadows</th>\n      <th>habitat_paths</th>\n      <th>habitat_urban</th>\n      <th>habitat_waste</th>\n      <th>habitat_woods</th>\n    </tr>\n  </thead>\n  <tbody>\n    <tr>\n      <th>0</th>\n      <td>1.0</td>\n      <td>0.0</td>\n      <td>0.0</td>\n      <td>1.0</td>\n      <td>0.0</td>\n      <td>0.0</td>\n      <td>0.0</td>\n      <td>0.0</td>\n      <td>0.0</td>\n      <td>0.0</td>\n      <td>...</td>\n      <td>0.0</td>\n      <td>0.0</td>\n      <td>0.0</td>\n      <td>1.0</td>\n      <td>0.0</td>\n      <td>0.0</td>\n      <td>0.0</td>\n      <td>0.0</td>\n      <td>0.0</td>\n      <td>0.0</td>\n    </tr>\n    <tr>\n      <th>1</th>\n      <td>1.0</td>\n      <td>1.0</td>\n      <td>0.0</td>\n      <td>0.0</td>\n      <td>0.0</td>\n      <td>0.0</td>\n      <td>0.0</td>\n      <td>0.0</td>\n      <td>0.0</td>\n      <td>0.0</td>\n      <td>...</td>\n      <td>0.0</td>\n      <td>0.0</td>\n      <td>0.0</td>\n      <td>0.0</td>\n      <td>0.0</td>\n      <td>1.0</td>\n      <td>0.0</td>\n      <td>0.0</td>\n      <td>0.0</td>\n      <td>0.0</td>\n    </tr>\n    <tr>\n      <th>2</th>\n      <td>0.0</td>\n      <td>0.0</td>\n      <td>0.0</td>\n      <td>1.0</td>\n      <td>0.0</td>\n      <td>0.0</td>\n      <td>0.0</td>\n      <td>0.0</td>\n      <td>0.0</td>\n      <td>1.0</td>\n      <td>...</td>\n      <td>1.0</td>\n      <td>0.0</td>\n      <td>0.0</td>\n      <td>0.0</td>\n      <td>0.0</td>\n      <td>0.0</td>\n      <td>0.0</td>\n      <td>1.0</td>\n      <td>0.0</td>\n      <td>0.0</td>\n    </tr>\n    <tr>\n      <th>3</th>\n      <td>1.0</td>\n      <td>0.0</td>\n      <td>0.0</td>\n      <td>1.0</td>\n      <td>0.0</td>\n      <td>0.0</td>\n      <td>0.0</td>\n      <td>0.0</td>\n      <td>0.0</td>\n      <td>0.0</td>\n      <td>...</td>\n      <td>0.0</td>\n      <td>0.0</td>\n      <td>0.0</td>\n      <td>1.0</td>\n      <td>0.0</td>\n      <td>0.0</td>\n      <td>0.0</td>\n      <td>0.0</td>\n      <td>0.0</td>\n      <td>0.0</td>\n    </tr>\n    <tr>\n      <th>4</th>\n      <td>1.0</td>\n      <td>0.0</td>\n      <td>0.0</td>\n      <td>1.0</td>\n      <td>0.0</td>\n      <td>0.0</td>\n      <td>0.0</td>\n      <td>0.0</td>\n      <td>0.0</td>\n      <td>1.0</td>\n      <td>...</td>\n      <td>0.0</td>\n      <td>0.0</td>\n      <td>0.0</td>\n      <td>1.0</td>\n      <td>0.0</td>\n      <td>0.0</td>\n      <td>0.0</td>\n      <td>0.0</td>\n      <td>0.0</td>\n      <td>0.0</td>\n    </tr>\n  </tbody>\n</table>\n<p>5 rows × 99 columns</p>\n</div>"
     },
     "execution_count": 42,
     "metadata": {},
     "output_type": "execute_result"
    }
   ],
   "source": [
    "y = df_mapped['class'].map({'e': 1.0, 'p': 0.0})\n",
    "\n",
    "# Drop the 'class' column \n",
    "X = df_mapped.drop(['class'], axis=1)\n",
    "# Initialize\n",
    "encoder = OneHotEncoder(sparse_output=False, handle_unknown='ignore')\n",
    "X_encoded = encoder.fit_transform(X)\n",
    "feature_names = encoder.get_feature_names_out(X.columns)\n",
    "X_encoded_df = pd.DataFrame(X_encoded, columns=feature_names)\n",
    "\n",
    "y_df = pd.DataFrame(y).reset_index(drop=True)\n",
    "\n",
    "df_encoded = pd.concat([y_df, X_encoded_df], axis=1)\n",
    "\n",
    "df_encoded.head()"
   ]
  },
  {
   "cell_type": "markdown",
   "id": "b775481f1424f535",
   "metadata": {
    "collapsed": false
   },
   "source": [
    "**Split dataset - in order to prevent data leakage**"
   ]
  },
  {
   "cell_type": "code",
   "execution_count": 43,
   "id": "f08e0358af1bd98",
   "metadata": {
    "collapsed": false,
    "ExecuteTime": {
     "end_time": "2024-03-11T04:20:49.986487Z",
     "start_time": "2024-03-11T04:20:49.922907Z"
    }
   },
   "outputs": [],
   "source": [
    "X_train, X_test, y_train, y_test = train_test_split(X_encoded_df, y, test_size=0.2, random_state=42)"
   ]
  },
  {
   "cell_type": "markdown",
   "id": "d1195bbcbe0b8228",
   "metadata": {
    "collapsed": false
   },
   "source": [
    "**Logistic Regression Testing**"
   ]
  },
  {
   "cell_type": "code",
   "execution_count": 44,
   "id": "3aef4a6dc3969bef",
   "metadata": {
    "collapsed": false,
    "ExecuteTime": {
     "end_time": "2024-03-11T04:20:51.596414Z",
     "start_time": "2024-03-11T04:20:51.102141Z"
    }
   },
   "outputs": [
    {
     "name": "stdout",
     "output_type": "stream",
     "text": [
      "Accuracy: 0.9981538461538462\n",
      "Classification Report:\n",
      "               precision    recall  f1-score   support\n",
      "\n",
      "         0.0       1.00      1.00      1.00       772\n",
      "         1.0       1.00      1.00      1.00       853\n",
      "\n",
      "    accuracy                           1.00      1625\n",
      "   macro avg       1.00      1.00      1.00      1625\n",
      "weighted avg       1.00      1.00      1.00      1625\n",
      "\n",
      "Confusion Matrix:\n",
      " [[770   2]\n",
      " [  1 852]]\n"
     ]
    }
   ],
   "source": [
    "log_reg = LogisticRegression(max_iter=10000)\n",
    "log_reg.fit(X_train, y_train)\n",
    "y_pred = log_reg.predict(X_test)\n",
    "accuracy = accuracy_score(y_test, y_pred)\n",
    "print(f\"Accuracy: {accuracy}\")\n",
    "\n",
    "class_report = classification_report(y_test, y_pred)\n",
    "print(\"Classification Report:\\n\", class_report)\n",
    "\n",
    "conf_matrix = confusion_matrix(y_test, y_pred)\n",
    "print(\"Confusion Matrix:\\n\", conf_matrix)"
   ]
  },
  {
   "cell_type": "code",
   "execution_count": 45,
   "outputs": [
    {
     "data": {
      "text/plain": "Text(0.5, 427.9555555555555, 'Predicted')"
     },
     "execution_count": 45,
     "metadata": {},
     "output_type": "execute_result"
    },
    {
     "data": {
      "text/plain": "<Figure size 640x480 with 2 Axes>",
      "image/png": "[encoded data removed]"
     },
     "metadata": {},
     "output_type": "display_data"
    }
   ],
   "source": [
    "class_names=[0,1] # name  of classes\n",
    "fig, ax = plt.subplots()\n",
    "tick_marks = np.arange(len(class_names))\n",
    "plt.xticks(tick_marks, class_names)\n",
    "plt.yticks(tick_marks, class_names)\n",
    "# create heatmap\n",
    "sns.heatmap(pd.DataFrame(conf_matrix), annot=True, cmap=\"YlGnBu\" ,fmt='g')\n",
    "ax.xaxis.set_label_position(\"top\")\n",
    "plt.tight_layout()\n",
    "plt.title('Confusion matrix', y=1.1)\n",
    "plt.ylabel('Actual')\n",
    "plt.xlabel('Predicted')"
   ],
   "metadata": {
    "collapsed": false,
    "ExecuteTime": {
     "end_time": "2024-03-11T04:20:53.872798Z",
     "start_time": "2024-03-11T04:20:53.752874Z"
    }
   },
   "id": "40a8a1551702fcf5"
  },
  {
   "cell_type": "markdown",
   "id": "ef7e509e601953a5",
   "metadata": {
    "collapsed": false
   },
   "source": [
    "**ANN Testing**"
   ]
  },
  {
   "cell_type": "code",
   "execution_count": 46,
   "id": "bea7f8a57b1d0cb4",
   "metadata": {
    "collapsed": false,
    "ExecuteTime": {
     "end_time": "2024-03-11T04:20:58.983610Z",
     "start_time": "2024-03-11T04:20:56.778592Z"
    }
   },
   "outputs": [
    {
     "name": "stdout",
     "output_type": "stream",
     "text": [
      "Epoch 1/10\n",
      "204/204 [==============================] - 0s 1ms/step - loss: 0.2505 - accuracy: 0.8989 - val_loss: 0.0590 - val_accuracy: 0.9858\n",
      "Epoch 2/10\n",
      "204/204 [==============================] - 0s 492us/step - loss: 0.0336 - accuracy: 0.9926 - val_loss: 0.0144 - val_accuracy: 0.9994\n",
      "Epoch 3/10\n",
      "204/204 [==============================] - 0s 455us/step - loss: 0.0103 - accuracy: 0.9989 - val_loss: 0.0056 - val_accuracy: 1.0000\n",
      "Epoch 4/10\n",
      "204/204 [==============================] - 0s 443us/step - loss: 0.0041 - accuracy: 1.0000 - val_loss: 0.0025 - val_accuracy: 1.0000\n",
      "Epoch 5/10\n",
      "204/204 [==============================] - 0s 480us/step - loss: 0.0020 - accuracy: 1.0000 - val_loss: 0.0014 - val_accuracy: 1.0000\n",
      "Epoch 6/10\n",
      "204/204 [==============================] - 0s 460us/step - loss: 0.0011 - accuracy: 1.0000 - val_loss: 8.6254e-04 - val_accuracy: 1.0000\n",
      "Epoch 7/10\n",
      "204/204 [==============================] - 0s 394us/step - loss: 6.9295e-04 - accuracy: 1.0000 - val_loss: 5.7384e-04 - val_accuracy: 1.0000\n",
      "Epoch 8/10\n",
      "204/204 [==============================] - 0s 509us/step - loss: 4.6472e-04 - accuracy: 1.0000 - val_loss: 4.0772e-04 - val_accuracy: 1.0000\n",
      "Epoch 9/10\n",
      "204/204 [==============================] - 0s 412us/step - loss: 3.3991e-04 - accuracy: 1.0000 - val_loss: 3.0671e-04 - val_accuracy: 1.0000\n",
      "Epoch 10/10\n",
      "204/204 [==============================] - 0s 420us/step - loss: 2.4885e-04 - accuracy: 1.0000 - val_loss: 2.3063e-04 - val_accuracy: 1.0000\n",
      "51/51 [==============================] - 0s 242us/step\n",
      "Accuracy: 1.0\n",
      "Classification Report:\n",
      "               precision    recall  f1-score   support\n",
      "\n",
      "         0.0       1.00      1.00      1.00       772\n",
      "         1.0       1.00      1.00      1.00       853\n",
      "\n",
      "    accuracy                           1.00      1625\n",
      "   macro avg       1.00      1.00      1.00      1625\n",
      "weighted avg       1.00      1.00      1.00      1625\n",
      "\n",
      "Confusion Matrix:\n",
      " [[772   0]\n",
      " [  0 853]]\n"
     ]
    }
   ],
   "source": [
    "model = Sequential()\n",
    "model.add(Dense(32, activation='relu', input_shape=(X_train.shape[1],)))  # Input layer \n",
    "model.add(Dense(16, activation='relu'))  # Hidden layer\n",
    "model.add(Dense(1, activation='sigmoid'))  # Output layer (single neuron for binary classification)\n",
    "\n",
    "optimizer = Adam(learning_rate=0.001) # Adjust the learning rate as needed\n",
    "model.compile(loss='binary_crossentropy', optimizer=optimizer, metrics=['accuracy'])\n",
    "\n",
    "model.fit(X_train, y_train, epochs=10, batch_size=32, validation_data=(X_test, y_test))\n",
    "\n",
    "y_pred = model.predict(X_test)\n",
    "y_pred = (y_pred > 0.5)  # Convert probabilities to class labels\n",
    "\n",
    "accuracy = accuracy_score(y_test, y_pred)\n",
    "print(f\"Accuracy: {accuracy}\")\n",
    "\n",
    "class_report = classification_report(y_test, y_pred)\n",
    "print(\"Classification Report:\\n\", class_report)\n",
    "\n",
    "conf_matrix = confusion_matrix(y_test, y_pred)\n",
    "print(\"Confusion Matrix:\\n\", conf_matrix)"
   ]
  },
  {
   "cell_type": "markdown",
   "id": "51d1719b3be0b888",
   "metadata": {
    "collapsed": false
   },
   "source": [
    "**PCA + K-Fold Cross Validation**"
   ]
  },
  {
   "cell_type": "code",
   "execution_count": 15,
   "id": "1858dcc055fcc5e3",
   "metadata": {
    "collapsed": false,
    "ExecuteTime": {
     "end_time": "2024-03-11T01:13:20.940084Z",
     "start_time": "2024-03-11T01:13:20.642942Z"
    }
   },
   "outputs": [
    {
     "name": "stdout",
     "output_type": "stream",
     "text": [
      "Average cross-validation accuracy: 0.9913827204358382\n"
     ]
    }
   ],
   "source": [
    "X_train_cv, X_test, y_train_cv, y_test = train_test_split(X_encoded_df, y, test_size=0.2, random_state=42)\n",
    "\n",
    "kf = KFold(n_splits=5, shuffle=True, random_state=42)  # 5-fold cross-validation\n",
    "accuracies = []  # Store accuracies for each fold\n",
    "\n",
    "for train_index, val_index in kf.split(X_train_cv):\n",
    "    X_train_fold, X_val_fold = X_train_cv.iloc[train_index], X_train_cv.iloc[val_index]\n",
    "    y_train_fold, y_val_fold = y_train_cv.iloc[train_index], y_train_cv.iloc[val_index]\n",
    "\n",
    "    # Fit PCA on the current training fold\n",
    "    pca = PCA(n_components=0.95)  # Keep 95% of explained variance\n",
    "    X_train_fold_pca = pca.fit_transform(X_train_fold) \n",
    "    X_val_fold_pca = pca.transform(X_val_fold)\n",
    "\n",
    "    # Train logistic regression\n",
    "    log_reg = LogisticRegression(max_iter=10000)\n",
    "    log_reg.fit(X_train_fold_pca, y_train_fold)\n",
    "\n",
    "    # Evaluation on the validation fold\n",
    "    y_pred = log_reg.predict(X_val_fold_pca)\n",
    "    accuracy = accuracy_score(y_val_fold, y_pred)\n",
    "    accuracies.append(accuracy)\n",
    "\n",
    "# Average accuracy across folds\n",
    "avg_accuracy = np.mean(accuracies)\n",
    "print(f\"Average cross-validation accuracy: {avg_accuracy}\")"
   ]
  },
  {
   "cell_type": "markdown",
   "source": [
    "**Kernel PCA + K-Fold Cross Validation**"
   ],
   "metadata": {
    "collapsed": false
   },
   "id": "178786711bb4d2cd"
  },
  {
   "cell_type": "code",
   "execution_count": 16,
   "outputs": [
    {
     "name": "stdout",
     "output_type": "stream",
     "text": [
      "Average cross-validation accuracy: 0.9858426008171965\n"
     ]
    }
   ],
   "source": [
    "X_train_cv, X_test, y_train_cv, y_test = train_test_split(X_encoded_df, y, test_size=0.2, random_state=42)\n",
    "\n",
    "# K-Fold Cross-Validation setup\n",
    "kf = KFold(n_splits=5, shuffle=True, random_state=42)  \n",
    "accuracies = []  \n",
    "\n",
    "for train_index, val_index in kf.split(X_train_cv):\n",
    "    X_train_fold, X_val_fold = X_train_cv.iloc[train_index], X_train_cv.iloc[val_index]\n",
    "    y_train_fold, y_val_fold = y_train_cv.iloc[train_index], y_train_cv.iloc[val_index]\n",
    "\n",
    "    # Kernel PCA \n",
    "    kpca = KernelPCA(n_components=None, kernel='rbf') \n",
    "    X_train_fold_kpca = kpca.fit_transform(X_train_fold) \n",
    "    X_val_fold_kpca = kpca.transform(X_val_fold)\n",
    "\n",
    "    # Logistic Regression\n",
    "    log_reg = LogisticRegression(max_iter=10000)\n",
    "    log_reg.fit(X_train_fold_kpca, y_train_fold)\n",
    "\n",
    "    # Evaluation\n",
    "    y_pred = log_reg.predict(X_val_fold_kpca)\n",
    "    accuracy = accuracy_score(y_val_fold, y_pred)\n",
    "    accuracies.append(accuracy)\n",
    "\n",
    "# Calculate average accuracy across folds\n",
    "avg_accuracy = np.mean(accuracies)\n",
    "print(f\"Average cross-validation accuracy: {avg_accuracy}\")"
   ],
   "metadata": {
    "collapsed": false,
    "ExecuteTime": {
     "end_time": "2024-03-11T01:14:53.477193Z",
     "start_time": "2024-03-11T01:13:20.942671Z"
    }
   },
   "id": "49c60e02a61f99ad"
  },
  {
   "cell_type": "code",
   "execution_count": 16,
   "outputs": [],
   "source": [],
   "metadata": {
    "collapsed": false,
    "ExecuteTime": {
     "end_time": "2024-03-11T01:14:53.516725Z",
     "start_time": "2024-03-11T01:14:53.486055Z"
    }
   },
   "id": "295e292f1ca417ba"
  }
 ],
 "metadata": {
  "kernelspec": {
   "display_name": "Python 3.11.6 ('base')",
   "language": "python",
   "name": "python3"
  },
  "language_info": {
   "codemirror_mode": {
    "name": "ipython",
    "version": 3
   },
   "file_extension": ".py",
   "mimetype": "text/x-python",
   "name": "python",
   "nbconvert_exporter": "python",
   "pygments_lexer": "ipython3",
   "version": "3.11.6"
  },
  "vscode": {
   "interpreter": {
    "hash": "29bf3bf4e5ca07c2dfeea41ff635140b754e818cda6d855159392e8b7ceb4723"
   }
  }
 },
 "nbformat": 4,
 "nbformat_minor": 5
}
